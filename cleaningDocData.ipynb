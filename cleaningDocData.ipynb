{
 "cells": [
  {
   "cell_type": "code",
   "execution_count": 1,
   "metadata": {
    "collapsed": true
   },
   "outputs": [],
   "source": [
    "import pandas as pd\n",
    "import numpy as np\n",
    "\n",
    "doc_geninfo = pd.read_csv(\"doctors.csv\")"
   ]
  },
  {
   "cell_type": "code",
   "execution_count": 2,
   "metadata": {
    "collapsed": true
   },
   "outputs": [],
   "source": [
    "doc_geninfo.shape, doc_geninfo.drop_duplicates().shape\n",
    "\n",
    "##Removing unwanted locations from dataset\n",
    "doc_geninfo['borough'].astype('category').cat.categories\n",
    "doc_geninfo = doc_geninfo.loc[doc_geninfo.borough!=\"Baltimore\"]\n",
    "doc_geninfo = doc_geninfo.loc[doc_geninfo.borough!=\"Jacksonville\"]\n",
    "doc_geninfo = doc_geninfo.loc[doc_geninfo.borough!=\"Beverly Hills\"]\n",
    "doc_geninfo = doc_geninfo.loc[doc_geninfo.borough!=\"Wilmington\"]\n",
    "doc_geninfo = doc_geninfo.loc[doc_geninfo.borough!=\"Ypsilanti\"]\n",
    "doc_geninfo = doc_geninfo.loc[doc_geninfo.borough!=\"Bridgeport\"]\n",
    "doc_geninfo = doc_geninfo.loc[doc_geninfo.borough!=\"Boston\"]\n",
    "doc_geninfo = doc_geninfo.loc[doc_geninfo.borough!=\"Yonkers\"]\n",
    "doc_geninfo = doc_geninfo.loc[doc_geninfo.borough!=\"White Plains\"]\n",
    "doc_geninfo = doc_geninfo.loc[doc_geninfo.borough!=\"West Orange\"]\n",
    "doc_geninfo = doc_geninfo.loc[doc_geninfo.borough!=\"West Harrison\"]\n",
    "doc_geninfo = doc_geninfo.loc[doc_geninfo.borough!=\"Valhalla\"]\n",
    "doc_geninfo = doc_geninfo.loc[doc_geninfo.borough!=\"Tarrytown\"]\n",
    "doc_geninfo = doc_geninfo.loc[doc_geninfo.borough!=\"Toronto\"]\n",
    "doc_geninfo = doc_geninfo.loc[doc_geninfo.borough!=\"Tuckahoe\"]\n",
    "doc_geninfo = doc_geninfo.loc[doc_geninfo.borough!=\"Watchung\"]\n",
    "doc_geninfo = doc_geninfo.loc[doc_geninfo.borough!=\"Uniondale\"]\n",
    "doc_geninfo = doc_geninfo.loc[doc_geninfo.borough!=\"Wayne\"]\n",
    "doc_geninfo = doc_geninfo.loc[doc_geninfo.borough!=\"Stony Brook\"]\n",
    "doc_geninfo = doc_geninfo.loc[doc_geninfo.borough!=\"Williston Park\"]\n",
    "doc_geninfo = doc_geninfo.loc[doc_geninfo.borough!=\"Stanford\"]\n",
    "doc_geninfo = doc_geninfo.loc[doc_geninfo.borough!=\"Stamford\"]\n",
    "doc_geninfo = doc_geninfo.loc[doc_geninfo.borough!=\"Summit\"]\n",
    "doc_geninfo = doc_geninfo.loc[doc_geninfo.borough!=\"St. Louis\"]\n",
    "doc_geninfo = doc_geninfo.loc[doc_geninfo.borough!=\"Suffern\"]\n",
    "doc_geninfo = doc_geninfo.loc[doc_geninfo.borough!=\"Valley Stream\"]\n",
    "doc_geninfo = doc_geninfo.loc[doc_geninfo.borough!=\"Sunny Isles Beach\"]\n",
    "doc_geninfo = doc_geninfo.loc[doc_geninfo.borough!=\"Setauket\"]\n",
    "doc_geninfo = doc_geninfo.loc[doc_geninfo.borough!=\"Sayre\"]\n",
    "doc_geninfo = doc_geninfo.loc[doc_geninfo.borough!=\"Schenectady\"]\n",
    "doc_geninfo = doc_geninfo.loc[doc_geninfo.borough!=\"Saylorsburg\"]\n",
    "doc_geninfo = doc_geninfo.loc[doc_geninfo.borough!=\"Sacramento\"]\n",
    "doc_geninfo = doc_geninfo.loc[doc_geninfo.borough!=\"Southampton\"]\n",
    "doc_geninfo = doc_geninfo.loc[doc_geninfo.borough!=\"Roselle\"]\n",
    "doc_geninfo = doc_geninfo.loc[doc_geninfo.borough!=\"Roslyn\"]\n",
    "doc_geninfo = doc_geninfo.loc[doc_geninfo.borough!=\"Rye\"]\n",
    "doc_geninfo = doc_geninfo.loc[doc_geninfo.borough!=\"Bethpage\"]\n",
    "doc_geninfo = doc_geninfo.loc[doc_geninfo.borough!=\"Brampton\"]\n",
    "doc_geninfo = doc_geninfo.loc[doc_geninfo.borough!=\"Brighton\"]\n",
    "doc_geninfo = doc_geninfo.loc[doc_geninfo.borough!=\"Raleigh\"]\n",
    "doc_geninfo = doc_geninfo.loc[doc_geninfo.borough!=\"Carle Place\"]\n",
    "doc_geninfo = doc_geninfo.loc[doc_geninfo.borough!=\"Charlotte\"]\n",
    "doc_geninfo = doc_geninfo.loc[doc_geninfo.borough!=\"Cedarhurst\"]\n",
    "doc_geninfo = doc_geninfo.loc[doc_geninfo.borough!=\"Centreville\"]\n",
    "doc_geninfo = doc_geninfo.loc[doc_geninfo.borough!=\"Cherry Hill\"]\n",
    "doc_geninfo = doc_geninfo.loc[doc_geninfo.borough!=\"Chicago\"]\n",
    "doc_geninfo = doc_geninfo.loc[doc_geninfo.borough!=\"Chatham\"]\n",
    "doc_geninfo = doc_geninfo.loc[doc_geninfo.borough!=\"Providence\"]\n",
    "doc_geninfo = doc_geninfo.loc[doc_geninfo.borough!=\"Carmel\"]\n",
    "doc_geninfo = doc_geninfo.loc[doc_geninfo.borough!=\"Orlando\"]\n",
    "doc_geninfo = doc_geninfo.loc[doc_geninfo.borough!=\"Oakbrook Terrace\"]\n",
    "doc_geninfo = doc_geninfo.loc[doc_geninfo.borough!=\"Paramus\"]\n",
    "doc_geninfo = doc_geninfo.loc[doc_geninfo.borough!=\"Philadelphia\"]\n",
    "doc_geninfo = doc_geninfo.loc[doc_geninfo.borough!=\"Garden City\"]\n",
    "doc_geninfo = doc_geninfo.loc[doc_geninfo.borough!=\"Detroit\"]\n",
    "doc_geninfo = doc_geninfo.loc[doc_geninfo.borough!=\"Jersey City\"]\n",
    "doc_geninfo = doc_geninfo.loc[doc_geninfo.borough!=\"Kansas City\"]\n",
    "doc_geninfo = doc_geninfo.loc[doc_geninfo.borough!=\"Hackensack\"]\n",
    "doc_geninfo = doc_geninfo.loc[doc_geninfo.borough!=\"Newark\"]\n",
    "doc_geninfo = doc_geninfo.loc[doc_geninfo.borough!=\"Poughkeepsie\"]\n",
    "doc_geninfo = doc_geninfo.loc[doc_geninfo.borough!=\"North York\"]\n",
    "doc_geninfo = doc_geninfo.loc[doc_geninfo.borough!=\"Paterson\"]\n",
    "doc_geninfo = doc_geninfo.loc[doc_geninfo.borough!=\"Monroe\"]\n",
    "doc_geninfo = doc_geninfo.loc[doc_geninfo.borough!=\"Middletown\"]\n",
    "doc_geninfo = doc_geninfo.loc[doc_geninfo.borough!=\"Greenwich\"]\n",
    "doc_geninfo = doc_geninfo.loc[doc_geninfo.borough!=\"Christiansburg\"]\n",
    "doc_geninfo = doc_geninfo.loc[doc_geninfo.borough!=\"Norwalk\"]\n",
    "doc_geninfo = doc_geninfo.loc[doc_geninfo.borough!=\"Hartford\"]\n",
    "doc_geninfo = doc_geninfo.loc[doc_geninfo.borough!=\"Hoboken\"]\n",
    "doc_geninfo = doc_geninfo.loc[doc_geninfo.borough!=\"Great Neck\"]\n",
    "doc_geninfo = doc_geninfo.loc[doc_geninfo.borough!=\"Los Angeles\"]\n",
    "doc_geninfo = doc_geninfo.loc[doc_geninfo.borough!=\"Little Silver\"]\n",
    "doc_geninfo = doc_geninfo.loc[doc_geninfo.borough!=\"Monte Rio\"]\n",
    "doc_geninfo = doc_geninfo.loc[doc_geninfo.borough!=\"New Hyde Park\"]\n",
    "doc_geninfo = doc_geninfo.loc[doc_geninfo.borough!=\"Harrison\"]\n",
    "doc_geninfo = doc_geninfo.loc[doc_geninfo.borough!=\"Dover\"]\n",
    "doc_geninfo = doc_geninfo.loc[doc_geninfo.borough!=\"Livonia\"]\n",
    "doc_geninfo = doc_geninfo.loc[doc_geninfo.borough!=\"Hershey\"]\n",
    "doc_geninfo = doc_geninfo.loc[doc_geninfo.borough!=\"Englewood\"]\n",
    "doc_geninfo = doc_geninfo.loc[doc_geninfo.borough!=\"Danbury\"]\n",
    "doc_geninfo = doc_geninfo.loc[doc_geninfo.borough!=\"Mineola\"]\n",
    "doc_geninfo = doc_geninfo.loc[doc_geninfo.borough!=\"Nanuet\"]\n",
    "doc_geninfo = doc_geninfo.loc[doc_geninfo.borough!=\"Houston\"]\n",
    "doc_geninfo = doc_geninfo.loc[doc_geninfo.borough!=\"Miami\"]\n",
    "doc_geninfo = doc_geninfo.loc[doc_geninfo.borough!=\"Fairfield\"]\n",
    "doc_geninfo = doc_geninfo.loc[doc_geninfo.borough!=\"Knoxville\"]\n",
    "doc_geninfo = doc_geninfo.loc[doc_geninfo.borough!=\"Gainesville\"]\n",
    "doc_geninfo = doc_geninfo.loc[doc_geninfo.borough!=\"New Haven\"]\n",
    "doc_geninfo = doc_geninfo.loc[doc_geninfo.borough!=\"Modesto\"]\n",
    "doc_geninfo = doc_geninfo.loc[doc_geninfo.borough!=\"Hicksville\"]\n",
    "doc_geninfo = doc_geninfo.loc[doc_geninfo.borough!=\"Livingston\"]\n",
    "doc_geninfo = doc_geninfo.loc[doc_geninfo.borough!=\"Old Bridge\"]\n",
    "doc_geninfo = doc_geninfo.loc[doc_geninfo.borough!=\"Menomonee Falls\"]\n",
    "doc_geninfo = doc_geninfo.loc[doc_geninfo.borough!=\"Hauppauge\"]\n",
    "doc_geninfo = doc_geninfo.loc[doc_geninfo.borough!=\"Clark\"]\n",
    "doc_geninfo = doc_geninfo.loc[doc_geninfo.borough!=\"Iselin\"]\n",
    "doc_geninfo = doc_geninfo.loc[doc_geninfo.borough!=\"Florham Park\"]\n",
    "doc_geninfo = doc_geninfo.loc[doc_geninfo.borough!=\"Freehold\"]\n",
    "doc_geninfo = doc_geninfo.loc[doc_geninfo.borough!=\"Delray Beach\"]\n",
    "doc_geninfo = doc_geninfo.loc[doc_geninfo.borough!=\"Fishkill\"]\n",
    "doc_geninfo = doc_geninfo.loc[doc_geninfo.borough!=\"Montclair\"]\n",
    "doc_geninfo = doc_geninfo.loc[doc_geninfo.borough!=\"Rockville\"]\n",
    "doc_geninfo = doc_geninfo.loc[doc_geninfo.borough!=\"Irvine\"]\n",
    "doc_geninfo = doc_geninfo.loc[doc_geninfo.borough!=\"Haddon Heights\"]\n",
    "doc_geninfo = doc_geninfo.loc[doc_geninfo.borough!=\"Harris\"]\n",
    "doc_geninfo = doc_geninfo.loc[doc_geninfo.borough!=\"Melville\"]\n",
    "doc_geninfo = doc_geninfo.loc[doc_geninfo.borough!=\"Lynbrook\"]\n",
    "doc_geninfo = doc_geninfo.loc[doc_geninfo.borough!=\"East Meadow\"]\n",
    "doc_geninfo = doc_geninfo.loc[doc_geninfo.borough!=\"Elyria\"]\n",
    "doc_geninfo = doc_geninfo.loc[doc_geninfo.borough!=\"Beacon\"]\n",
    "doc_geninfo = doc_geninfo.loc[doc_geninfo.borough!=\"New City\"]\n",
    "doc_geninfo = doc_geninfo.loc[doc_geninfo.borough!=\"Newburgh\"]\n",
    "doc_geninfo = doc_geninfo.loc[doc_geninfo.borough!=\"New Brunswick\"]\n",
    "doc_geninfo = doc_geninfo.loc[doc_geninfo.borough!=\"Mount Kisco\"]\n",
    "doc_geninfo = doc_geninfo.loc[doc_geninfo.borough!=\"Elmira\"]\n",
    "doc_geninfo = doc_geninfo.loc[doc_geninfo.borough!=\"High Point\"]\n",
    "doc_geninfo = doc_geninfo.loc[doc_geninfo.borough!=\"Bronxville\"]\n",
    "doc_geninfo = doc_geninfo.loc[doc_geninfo.borough!=\"Manhasset\"]\n",
    "doc_geninfo = doc_geninfo.loc[doc_geninfo.borough!=\"Palisades Park\"]\n",
    "doc_geninfo = doc_geninfo.loc[doc_geninfo.borough!=\"Spring Valley\"]\n",
    "doc_geninfo = doc_geninfo.loc[doc_geninfo.borough!=\"Plainview\"]\n",
    "doc_geninfo = doc_geninfo.loc[doc_geninfo.borough!=\"Hudson\"]\n",
    "doc_geninfo = doc_geninfo.loc[doc_geninfo.borough!=\"Woodmere\"]\n",
    "doc_geninfo = doc_geninfo.loc[doc_geninfo.borough!=\"Woodbury\"]\n",
    "doc_geninfo = doc_geninfo.loc[doc_geninfo.borough!=\"New Rochelle\"]\n",
    "doc_geninfo = doc_geninfo.loc[doc_geninfo.borough!=\"Huntington\"]\n",
    "doc_geninfo = doc_geninfo.loc[doc_geninfo.specialty!=\"Acupuncturist\"]"
   ]
  },
  {
   "cell_type": "code",
   "execution_count": 4,
   "metadata": {},
   "outputs": [
    {
     "data": {
      "text/html": [
       "<div>\n",
       "<style>\n",
       "    .dataframe thead tr:only-child th {\n",
       "        text-align: right;\n",
       "    }\n",
       "\n",
       "    .dataframe thead th {\n",
       "        text-align: left;\n",
       "    }\n",
       "\n",
       "    .dataframe tbody tr th {\n",
       "        vertical-align: top;\n",
       "    }\n",
       "</style>\n",
       "<table border=\"1\" class=\"dataframe\">\n",
       "  <thead>\n",
       "    <tr style=\"text-align: right;\">\n",
       "      <th></th>\n",
       "      <th>languages</th>\n",
       "      <th>doctors</th>\n",
       "    </tr>\n",
       "  </thead>\n",
       "  <tbody>\n",
       "    <tr>\n",
       "      <th>0</th>\n",
       "      <td>Spanish</td>\n",
       "      <td>Dr. Leon Kavaler</td>\n",
       "    </tr>\n",
       "    <tr>\n",
       "      <th>1</th>\n",
       "      <td>Spanish</td>\n",
       "      <td>Dr. Jeffrey A. Goldstein</td>\n",
       "    </tr>\n",
       "    <tr>\n",
       "      <th>2</th>\n",
       "      <td>English</td>\n",
       "      <td>Dr. Norman J. Pastorek</td>\n",
       "    </tr>\n",
       "    <tr>\n",
       "      <th>3</th>\n",
       "      <td>Hebrew</td>\n",
       "      <td>Dr. Elinor Bock</td>\n",
       "    </tr>\n",
       "    <tr>\n",
       "      <th>4</th>\n",
       "      <td>English</td>\n",
       "      <td>Dr. Sharon Giese</td>\n",
       "    </tr>\n",
       "  </tbody>\n",
       "</table>\n",
       "</div>"
      ],
      "text/plain": [
       "  languages                   doctors\n",
       "0   Spanish          Dr. Leon Kavaler\n",
       "1   Spanish  Dr. Jeffrey A. Goldstein\n",
       "2   English    Dr. Norman J. Pastorek\n",
       "3    Hebrew           Dr. Elinor Bock\n",
       "4   English          Dr. Sharon Giese"
      ]
     },
     "execution_count": 4,
     "metadata": {},
     "output_type": "execute_result"
    }
   ],
   "source": [
    "lang = doc_geninfo[['languages', 'doc_name']].dropna()\n",
    "lang = pd.concat([pd.Series(row['doc_name'], row['languages'].split(','))              \n",
    "                    for _, row in lang.iterrows()]).reset_index().rename(columns={'index':'languages', 0:'doctors'})\n",
    "\n",
    "lang = lang.loc[lang.languages!=\" Physician\"]\n",
    "lang = lang.loc[lang.languages!=\"Acupuncturist\"]\n",
    "lang = lang.loc[lang.languages!=\"Anesthesiologist\"]\n",
    "lang = lang.loc[lang.languages!=\"Bariatric / Weight Loss Specialist\"]\n",
    "lang = lang.loc[lang.languages!=\"Cardiologist\"]\n",
    "lang = lang.loc[lang.languages!=\"Cardiothoracic Surgeon\"]\n",
    "lang = lang.loc[lang.languages!=\"Dermatologist\"]\n",
    "lang = lang.loc[lang.languages!=\"Ear Nose and Throat (ENT) Doctor\"]\n",
    "lang = lang.loc[lang.languages!=\"Gastroenterologist\"]\n",
    "lang = lang.loc[lang.languages!=\"Geneticist\"]\n",
    "lang = lang.loc[lang.languages!=\"Gynecologist (OBGYN)\"]\n",
    "lang = lang.loc[lang.languages!=\"Internist / Geriatrician\"]\n",
    "lang = lang.loc[lang.languages!=\"Naturopath\"]\n",
    "lang = lang.loc[lang.languages!=\"Neurologist\"]\n",
    "lang = lang.loc[lang.languages!=\"Ophthalmologist\"]\n",
    "lang = lang.loc[lang.languages!=\"Orthodontist\"]\n",
    "lang = lang.loc[lang.languages!=\"Orthopedic Surgeon\"]\n",
    "lang = lang.loc[lang.languages!=\"Pain Management Specialist / Physical Therapist\"]\n",
    "lang = lang.loc[lang.languages!=\"Pediatrician\"]\n",
    "lang = lang.loc[lang.languages!=\"Periodontist (gums)\"]\n",
    "lang = lang.loc[lang.languages!=\"Plastic / Cosmetic Surgeon\"]\n",
    "lang = lang.loc[lang.languages!=\"Podiatrist\"]\n",
    "lang = lang.loc[lang.languages!=\"Psychiatrist\"]\n",
    "lang = lang.loc[lang.languages!=\"Psychologist\"]\n",
    "lang = lang.loc[lang.languages!=\"Reproductive Endocrinologist\"]\n",
    "lang = lang.loc[lang.languages!=\"Sports Medicine Physician\"]\n",
    "lang = lang.loc[lang.languages!=\"Urogynecologist\"]\n",
    "lang = lang.loc[lang.languages!=\"Urologist\"]\n",
    "lang = lang.loc[lang.languages!=\"Vascular Surgeon / Phlebologist\"]\n",
    "lang.head()"
   ]
  },
  {
   "cell_type": "code",
   "execution_count": 6,
   "metadata": {},
   "outputs": [
    {
     "data": {
      "text/html": [
       "<iframe id=\"igraph\" scrolling=\"no\" style=\"border:none;\" seamless=\"seamless\" src=\"https://plot.ly/~gwenkf/18.embed\" height=\"500px\" width=\"600px\"></iframe>"
      ],
      "text/plain": [
       "<plotly.tools.PlotlyDisplay object>"
      ]
     },
     "execution_count": 6,
     "metadata": {},
     "output_type": "execute_result"
    }
   ],
   "source": [
    "import plotly\n",
    "import plotly.plotly as py\n",
    "import plotly.graph_objs as go\n",
    "lang.describe() ##273 doctors posted at least one language. 35 different languages covered among the NYC doctors\n",
    "##largest number of languages spoken - 6 \n",
    "\n",
    "count_langs = pd.DataFrame(lang.groupby('languages').size()).reset_index().rename(columns={0:'count'})\n",
    "num_perdoc = pd.DataFrame(lang.groupby('doctors').size()).reset_index().rename(columns={0:'num_langs_spoken'})\n",
    "\n",
    "data = [go.Histogram(x=num_perdoc['num_langs_spoken'], marker=dict(color='#00897B'))]\n",
    "layout=go.Layout(autosize=False, width=600, height=500,\n",
    "                xaxis = dict(\n",
    "                title = \"Number of Languages Spoken\"),\n",
    "                yaxis = dict(\n",
    "                title = \"Frequency\"))\n",
    "\n",
    "figure = go.Figure(data=data, layout=layout)\n",
    "py.iplot(figure, filename='basic histogram')"
   ]
  },
  {
   "cell_type": "code",
   "execution_count": 49,
   "metadata": {
    "scrolled": true
   },
   "outputs": [
    {
     "data": {
      "text/html": [
       "<iframe id=\"igraph\" scrolling=\"no\" style=\"border:none;\" seamless=\"seamless\" src=\"https://plot.ly/~gwenkf/20.embed\" height=\"230px\" width=\"400px\"></iframe>"
      ],
      "text/plain": [
       "<plotly.tools.PlotlyDisplay object>"
      ]
     },
     "execution_count": 49,
     "metadata": {},
     "output_type": "execute_result"
    }
   ],
   "source": [
    "one_lang = num_perdoc.loc[num_perdoc.num_langs_spoken==1]\n",
    "one_lang = one_lang.merge(lang, how=\"left\")\n",
    "one_lang = one_lang[['doctors', 'languages']]\n",
    "##when one language spoken, spanish was most common (52 doctors), then english (30),\n",
    "#hebrew (20) & chinese (18)\n",
    "top_langs = count_langs.rename(columns={'languages':'Top Languages', \n",
    "                                        'count':'Number of Doctors'}).sort_values(by=\"Number of Doctors\",ascending=False).head()\n",
    "import plotly.figure_factory as ff\n",
    "import plotly.plotly as py\n",
    "\n",
    "colorscale = [[0, '#C05C6B'],[.5, '#FFEBEE'],[1, '#ffffff']]\n",
    "\n",
    "table = ff.create_table(top_langs, colorscale=colorscale)\n",
    "table.layout.width=400\n",
    "py.iplot(table, filename='top_langs_table')"
   ]
  },
  {
   "cell_type": "code",
   "execution_count": 46,
   "metadata": {},
   "outputs": [
    {
     "data": {
      "text/plain": [
       "borough\n",
       "Bronx              16\n",
       "Brooklyn           46\n",
       "New York City    1272\n",
       "Queens             33\n",
       "Staten Island      21\n",
       "dtype: int64"
      ]
     },
     "execution_count": 46,
     "metadata": {},
     "output_type": "execute_result"
    }
   ],
   "source": [
    "doc_geninfo = doc_geninfo.replace(to_replace=[\"Astoria\", \"Bayside\", \"Elmhurst\", \"Far Rockaway\", \"Flushing\", \"Forest Hills\", \"Fresh Meadows\",\n",
    "                               \"Glen Oaks\", \"Jackson Heights\", \"Jamaica\", \"Kew Gardens\", \"Long Island City\", \"Rego Park\", \"Ridgewood\",\n",
    "                               \"Sunnyside\"], value=\"Queens\")\n",
    "doc_geninfo = doc_geninfo.replace(to_replace=[\"Prospect\", \"Rockaway Park\"], value=\"Brooklyn\")\n",
    "doc_geninfo = doc_geninfo.replace(to_replace=\"New York\", value=\"New York City\")\n",
    "doc_geninfo.groupby('borough').size()"
   ]
  },
  {
   "cell_type": "code",
   "execution_count": 34,
   "metadata": {},
   "outputs": [
    {
     "data": {
      "text/plain": [
       "gender\n",
       " Female     324\n",
       " Male      1064\n",
       "dtype: int64"
      ]
     },
     "execution_count": 34,
     "metadata": {},
     "output_type": "execute_result"
    }
   ],
   "source": [
    "doc_geninfo.groupby('gender').size()"
   ]
  },
  {
   "cell_type": "code",
   "execution_count": 55,
   "metadata": {
    "collapsed": true,
    "scrolled": true
   },
   "outputs": [],
   "source": [
    "ratings = ratings.dropna(subset=['cat_ratings'])\n",
    "ratings = ratings.drop_duplicates()\n",
    "doc_ratings = pd.concat([pd.Series(row['doc_name'], row['cat_ratings'].split(','))              \n",
    "                    for _, row in ratings.iterrows()]).reset_index()\n",
    "doc_ratings = doc_ratings.rename(columns = {0:'doctors', \"index\":\"ratings\"})\n",
    "\n",
    "spec_ratings = pd.concat([pd.Series(row['specialty'], row['cat_ratings'].split(','))\n",
    "                         for _, row in ratings.iterrows()]).reset_index()\n",
    "spec_ratings = spec_ratings.rename(columns = {0:\"specialty\", \"index\":\"ratings\"})\n",
    "spec_ratings = pd.DataFrame(spec_ratings.groupby(['specialty','ratings']).size()).reset_index()\n",
    "spec_ratings = spec_ratings.rename(columns={0:\"count\", 'specialty':'specialty', 'ratings':'ratings'})"
   ]
  },
  {
   "cell_type": "code",
   "execution_count": 56,
   "metadata": {
    "collapsed": true
   },
   "outputs": [],
   "source": [
    "gen_specialty = doc_geninfo[['gender', 'specialty']]\n",
    "gen_specialty = gen_specialty.dropna()"
   ]
  },
  {
   "cell_type": "code",
   "execution_count": 74,
   "metadata": {
    "scrolled": true
   },
   "outputs": [
    {
     "name": "stdout",
     "output_type": "stream",
     "text": [
      "High five! You successfully sent some data to your account on plotly. View your plot in your browser at https://plot.ly/~gwenkf/0 or inside your plot.ly account where it is named 'basic-bar'\n"
     ]
    },
    {
     "data": {
      "text/html": [
       "<iframe id=\"igraph\" scrolling=\"no\" style=\"border:none;\" seamless=\"seamless\" src=\"https://plot.ly/~gwenkf/0.embed\" height=\"500px\" width=\"600px\"></iframe>"
      ],
      "text/plain": [
       "<plotly.tools.PlotlyDisplay object>"
      ]
     },
     "execution_count": 74,
     "metadata": {},
     "output_type": "execute_result"
    }
   ],
   "source": [
    "import plotly\n",
    "import plotly.plotly as py\n",
    "import plotly.graph_objs as go\n",
    "\n",
    "data = [go.Bar(\n",
    "            x=['Female Doctors', 'Male Doctors'],\n",
    "            y=['325', '1064'], marker=dict(\n",
    "        color='rgba(96, 159, 148, 1)'), width = .40\n",
    "    )]\n",
    "layout=go.Layout(autosize=False, width=600, height=500)\n",
    "\n",
    "figure = go.Figure(data=data, layout=layout)\n",
    "py.iplot(figure, filename='basic-bar')"
   ]
  },
  {
   "cell_type": "code",
   "execution_count": 59,
   "metadata": {},
   "outputs": [],
   "source": [
    "spec_bygen = pd.DataFrame(gen_specialty.groupby([\"specialty\", \"gender\"]).size()).reset_index()\n",
    "spec_bygen = spec_bygen.rename(columns={0:'count'})\n",
    "#unstack('gender') to get male and females in separate columns\n"
   ]
  },
  {
   "cell_type": "code",
   "execution_count": 69,
   "metadata": {},
   "outputs": [
    {
     "data": {
      "text/html": [
       "<iframe id=\"igraph\" scrolling=\"no\" style=\"border:none;\" seamless=\"seamless\" src=\"https://plot.ly/~gwenkf/11.embed\" height=\"500px\" width=\"750px\"></iframe>"
      ],
      "text/plain": [
       "<plotly.tools.PlotlyDisplay object>"
      ]
     },
     "execution_count": 69,
     "metadata": {},
     "output_type": "execute_result"
    }
   ],
   "source": [
    "colorscale = [[0, '#C05C6B'],[.5, '#FFEBEE'],[1, '#ffffff']]\n",
    "\n",
    "import plotly.plotly as py\n",
    "import plotly.graph_objs as go\n",
    "\n",
    "trace1 = go.Bar(\n",
    "    x=spec_bygen['count'].loc[spec_bygen.gender == \" Female\"],\n",
    "    y=spec_bygen['specialty'].loc[spec_bygen.gender == \" Female\"],\n",
    "    orientation = \"h\",\n",
    "    marker = dict(color = 'rgba(96, 159, 148, 1)'),\n",
    "    name='Females'\n",
    ")\n",
    "trace2 = go.Bar(\n",
    "    x=spec_bygen['count'].loc[spec_bygen.gender == \" Male\"],\n",
    "    y=spec_bygen['specialty'].loc[spec_bygen.gender == \" Male\"],\n",
    "    orientation = \"h\",\n",
    "    marker = dict(color = '#C05C6B'),\n",
    "    name='Males'\n",
    ")\n",
    "\n",
    "data = [trace1, trace2]\n",
    "\n",
    "layout = go.Layout(\n",
    "    autosize=False,\n",
    "    barmode='stack',\n",
    "    width=750,\n",
    "    height=500,\n",
    "    margin=go.Margin(\n",
    "        l=300,\n",
    "        r=50,\n",
    "        b=50,\n",
    "        t=50,\n",
    "        pad=4\n",
    "    ))\n",
    "\n",
    "fig = go.Figure(data=data, layout=layout)\n",
    "py.iplot(fig, filename='stacked-bar')"
   ]
  },
  {
   "cell_type": "code",
   "execution_count": null,
   "metadata": {
    "collapsed": true
   },
   "outputs": [],
   "source": []
  },
  {
   "cell_type": "code",
   "execution_count": 50,
   "metadata": {},
   "outputs": [
    {
     "data": {
      "text/html": [
       "<iframe id=\"igraph\" scrolling=\"no\" style=\"border:none;\" seamless=\"seamless\" src=\"https://plot.ly/~gwenkf/7.embed\" height=\"380px\" width=\"500px\"></iframe>"
      ],
      "text/plain": [
       "<plotly.tools.PlotlyDisplay object>"
      ]
     },
     "execution_count": 50,
     "metadata": {},
     "output_type": "execute_result"
    }
   ],
   "source": [
    "insur_gen = pd.DataFrame(doc_geninfo['insurances'].str.split(',', expand=True).stack()).reset_index()\n",
    "insur_gen = insur_gen[[0]]\n",
    "insur_gen = insur_gen.rename(columns={0:\"insurances\"})\n",
    "top_ten = pd.DataFrame(insur_gen.groupby('insurances').size().sort_values(ascending=False)).reset_index().rename(columns={0:\"Number of Doctors Accepting\", \"insurances\":\"Insurances\"})\n",
    "top_ten = top_ten[0:10]\n",
    "import plotly.figure_factory as ff\n",
    "import plotly.plotly as py\n",
    "\n",
    "colorscale = [[0, '#C05C6B'],[.5, '#FFEBEE'],[1, '#ffffff']]\n",
    "\n",
    "table = ff.create_table(top_ten, colorscale=colorscale)\n",
    "table.layout.width=500\n",
    "py.iplot(table, filename='color_table')"
   ]
  },
  {
   "cell_type": "code",
   "execution_count": 226,
   "metadata": {},
   "outputs": [
    {
     "data": {
      "text/html": [
       "<iframe id=\"igraph\" scrolling=\"no\" style=\"border:none;\" seamless=\"seamless\" src=\"https://plot.ly/~gwenkf/7.embed\" height=\"380px\" width=\"500px\"></iframe>"
      ],
      "text/plain": [
       "<plotly.tools.PlotlyDisplay object>"
      ]
     },
     "execution_count": 226,
     "metadata": {},
     "output_type": "execute_result"
    }
   ],
   "source": [
    "bottom_ten = pd.DataFrame(insur_gen.groupby('insurances').size().sort_values(ascending=True)).reset_index().rename(columns=\n",
    "                                                                                                                  {'insurances':\n",
    "                                                                                                                  'Insurances', 0:\n",
    "                                                                                                                  \"Number of Doctors Accepting\"})\n",
    "bottom_ten = bottom_ten[0:10]\n",
    "import plotly.figure_factory as ff\n",
    "import plotly.plotly as py\n",
    "\n",
    "colorscale = [[0, '#4d004c'],[.5, '#f2e5ff'],[1, '#ffffff']]\n",
    "\n",
    "table = ff.create_table(bottom_ten, colorscale=colorscale)\n",
    "table.layout.width=500\n",
    "py.iplot(table, filename='color_table')"
   ]
  },
  {
   "cell_type": "code",
   "execution_count": 66,
   "metadata": {},
   "outputs": [
    {
     "data": {
      "text/html": [
       "<div>\n",
       "<style>\n",
       "    .dataframe thead tr:only-child th {\n",
       "        text-align: right;\n",
       "    }\n",
       "\n",
       "    .dataframe thead th {\n",
       "        text-align: left;\n",
       "    }\n",
       "\n",
       "    .dataframe tbody tr th {\n",
       "        vertical-align: top;\n",
       "    }\n",
       "</style>\n",
       "<table border=\"1\" class=\"dataframe\">\n",
       "  <thead>\n",
       "    <tr style=\"text-align: right;\">\n",
       "      <th></th>\n",
       "      <th>specialty</th>\n",
       "      <th>gender</th>\n",
       "      <th>count</th>\n",
       "    </tr>\n",
       "  </thead>\n",
       "  <tbody>\n",
       "    <tr>\n",
       "      <th>29</th>\n",
       "      <td>Internist / Geriatrician</td>\n",
       "      <td>Male</td>\n",
       "      <td>117</td>\n",
       "    </tr>\n",
       "    <tr>\n",
       "      <th>41</th>\n",
       "      <td>Ophthalmologist</td>\n",
       "      <td>Male</td>\n",
       "      <td>76</td>\n",
       "    </tr>\n",
       "    <tr>\n",
       "      <th>49</th>\n",
       "      <td>Orthopedic Surgeon</td>\n",
       "      <td>Male</td>\n",
       "      <td>66</td>\n",
       "    </tr>\n",
       "    <tr>\n",
       "      <th>6</th>\n",
       "      <td>Cardiologist</td>\n",
       "      <td>Male</td>\n",
       "      <td>65</td>\n",
       "    </tr>\n",
       "    <tr>\n",
       "      <th>26</th>\n",
       "      <td>Gynecologist (OBGYN)</td>\n",
       "      <td>Male</td>\n",
       "      <td>60</td>\n",
       "    </tr>\n",
       "  </tbody>\n",
       "</table>\n",
       "</div>"
      ],
      "text/plain": [
       "                   specialty gender  count\n",
       "29  Internist / Geriatrician   Male    117\n",
       "41           Ophthalmologist   Male     76\n",
       "49        Orthopedic Surgeon   Male     66\n",
       "6               Cardiologist   Male     65\n",
       "26      Gynecologist (OBGYN)   Male     60"
      ]
     },
     "execution_count": 66,
     "metadata": {},
     "output_type": "execute_result"
    }
   ],
   "source": [
    "top_specM = spec_bygen.loc[spec_bygen.gender == \" Male\"].sort_values(by='count', ascending=False).head(5)\n",
    "top_specF = spec_bygen.loc[spec_bygen.gender == \" Female\"].sort_values(by='count', ascending=False).head(5)\n",
    "top_specAll = spec_bygen.groupby(['specialty']).sum().sort_values(by='count',ascending=False).head(5)\n",
    "top_specM.head()\n"
   ]
  },
  {
   "cell_type": "code",
   "execution_count": 61,
   "metadata": {},
   "outputs": [
    {
     "data": {
      "text/html": [
       "<iframe id=\"igraph\" scrolling=\"no\" style=\"border:none;\" seamless=\"seamless\" src=\"https://plot.ly/~gwenkf/14.embed\" height=\"230px\" width=\"300px\"></iframe>"
      ],
      "text/plain": [
       "<plotly.tools.PlotlyDisplay object>"
      ]
     },
     "execution_count": 61,
     "metadata": {},
     "output_type": "execute_result"
    }
   ],
   "source": [
    "top_specF = top_specF[['specialty', 'count']]\n",
    "top_specF = top_specF.rename(columns={'specialty':'Specialty','count':'Count of Female MDs'})\n",
    "import plotly.figure_factory as ff\n",
    "import plotly.plotly as py\n",
    "\n",
    "colorscale = [[0, '#C05C6B'],[.5, '#FFEBEE'],[1, '#ffffff']]\n",
    "\n",
    "table = ff.create_table(top_specF, colorscale=colorscale)\n",
    "table.layout.width=300\n",
    "py.iplot(table, filename='femspecialties_table')"
   ]
  },
  {
   "cell_type": "code",
   "execution_count": 67,
   "metadata": {},
   "outputs": [
    {
     "data": {
      "text/html": [
       "<iframe id=\"igraph\" scrolling=\"no\" style=\"border:none;\" seamless=\"seamless\" src=\"https://plot.ly/~gwenkf/16.embed\" height=\"230px\" width=\"300px\"></iframe>"
      ],
      "text/plain": [
       "<plotly.tools.PlotlyDisplay object>"
      ]
     },
     "execution_count": 67,
     "metadata": {},
     "output_type": "execute_result"
    }
   ],
   "source": [
    "top_specM = top_specM[['specialty', 'count']]\n",
    "top_specM = top_specM.rename(columns={'specialty':'Specialty','count':'Count of Male MDs'})\n",
    "import plotly.figure_factory as ff\n",
    "import plotly.plotly as py\n",
    "\n",
    "colorscale = [[0, '#C05C6B'],[.5, '#FFEBEE'],[1, '#ffffff']]\n",
    "\n",
    "table = ff.create_table(top_specM, colorscale=colorscale)\n",
    "table.layout.width=300\n",
    "py.iplot(table, filename='malespecialties_table')"
   ]
  },
  {
   "cell_type": "code",
   "execution_count": 8,
   "metadata": {},
   "outputs": [],
   "source": [
    "ratings = pd.read_csv('reviews.csv')\n",
    "ratings = ratings.dropna()\n",
    "ratings = ratings.drop_duplicates()\n",
    "ratings.head()\n",
    "ratings = ratings.replace(to_replace=\" \", value=\"\")\n",
    "rating_spec = pd.concat([pd.Series(row['specialty'], row['cat_ratings'].split(','))              \n",
    "                    for _, row in ratings.iterrows()]).reset_index().rename(columns={'index':'score_cat', 0:'specialty'})"
   ]
  },
  {
   "cell_type": "code",
   "execution_count": 9,
   "metadata": {},
   "outputs": [
    {
     "data": {
      "text/html": [
       "<div>\n",
       "<style>\n",
       "    .dataframe thead tr:only-child th {\n",
       "        text-align: right;\n",
       "    }\n",
       "\n",
       "    .dataframe thead th {\n",
       "        text-align: left;\n",
       "    }\n",
       "\n",
       "    .dataframe tbody tr th {\n",
       "        vertical-align: top;\n",
       "    }\n",
       "</style>\n",
       "<table border=\"1\" class=\"dataframe\">\n",
       "  <thead>\n",
       "    <tr style=\"text-align: right;\">\n",
       "      <th></th>\n",
       "      <th>score_cat</th>\n",
       "      <th>score</th>\n",
       "      <th>count</th>\n",
       "    </tr>\n",
       "  </thead>\n",
       "  <tbody>\n",
       "    <tr>\n",
       "      <th>0</th>\n",
       "      <td>Helpfulness</td>\n",
       "      <td>1</td>\n",
       "      <td>128</td>\n",
       "    </tr>\n",
       "    <tr>\n",
       "      <th>1</th>\n",
       "      <td>Helpfulness</td>\n",
       "      <td>2</td>\n",
       "      <td>40</td>\n",
       "    </tr>\n",
       "    <tr>\n",
       "      <th>2</th>\n",
       "      <td>Helpfulness</td>\n",
       "      <td>3</td>\n",
       "      <td>50</td>\n",
       "    </tr>\n",
       "    <tr>\n",
       "      <th>3</th>\n",
       "      <td>Helpfulness</td>\n",
       "      <td>4</td>\n",
       "      <td>35</td>\n",
       "    </tr>\n",
       "    <tr>\n",
       "      <th>4</th>\n",
       "      <td>Helpfulness</td>\n",
       "      <td>5</td>\n",
       "      <td>322</td>\n",
       "    </tr>\n",
       "    <tr>\n",
       "      <th>5</th>\n",
       "      <td>Knowledge</td>\n",
       "      <td>1</td>\n",
       "      <td>121</td>\n",
       "    </tr>\n",
       "    <tr>\n",
       "      <th>6</th>\n",
       "      <td>Knowledge</td>\n",
       "      <td>2</td>\n",
       "      <td>38</td>\n",
       "    </tr>\n",
       "    <tr>\n",
       "      <th>7</th>\n",
       "      <td>Knowledge</td>\n",
       "      <td>3</td>\n",
       "      <td>52</td>\n",
       "    </tr>\n",
       "    <tr>\n",
       "      <th>8</th>\n",
       "      <td>Knowledge</td>\n",
       "      <td>4</td>\n",
       "      <td>60</td>\n",
       "    </tr>\n",
       "    <tr>\n",
       "      <th>9</th>\n",
       "      <td>Knowledge</td>\n",
       "      <td>5</td>\n",
       "      <td>304</td>\n",
       "    </tr>\n",
       "  </tbody>\n",
       "</table>\n",
       "</div>"
      ],
      "text/plain": [
       "     score_cat score  count\n",
       "0  Helpfulness     1    128\n",
       "1  Helpfulness     2     40\n",
       "2  Helpfulness     3     50\n",
       "3  Helpfulness     4     35\n",
       "4  Helpfulness     5    322\n",
       "5    Knowledge     1    121\n",
       "6    Knowledge     2     38\n",
       "7    Knowledge     3     52\n",
       "8    Knowledge     4     60\n",
       "9    Knowledge     5    304"
      ]
     },
     "execution_count": 9,
     "metadata": {},
     "output_type": "execute_result"
    }
   ],
   "source": [
    "rating_spec = rating_spec.loc[rating_spec.score_cat != \" \"]\n",
    "scores = [\"1\",\"2\",\"3\",\"4\",\"5\"]\n",
    "cat = [\"Staff\", \"Punctuality\", \"Helpfulness\", \"Knowledge\"]\n",
    "nums = rating_spec.loc[rating_spec.score_cat.isin(scores)].reset_index()[['score_cat', \n",
    "                                                                          'specialty']].rename(columns={'score_cat':'score',\n",
    "                                                                                                       'specialty':'specialty1'})\n",
    "cats = rating_spec.loc[rating_spec.score_cat.isin(cat)].reset_index()[['score_cat', 'specialty']]\n",
    "clean_ratings = pd.concat([nums, cats], axis=1)\n",
    "clean_ratings = clean_ratings[['score','score_cat','specialty']]\n",
    "clean_ratings = clean_ratings.dropna()\n",
    "internists_ratings = clean_ratings.loc[clean_ratings.specialty == \"Internist / Geriatrician\"]\n",
    "internists_ratings = pd.DataFrame(internists_ratings.groupby(['score_cat','score']).size()).reset_index().rename(columns={0:'count'})\n",
    "internists_ratings.head(10)"
   ]
  },
  {
   "cell_type": "code",
   "execution_count": 466,
   "metadata": {},
   "outputs": [
    {
     "data": {
      "text/html": [
       "<iframe id=\"igraph\" scrolling=\"no\" style=\"border:none;\" seamless=\"seamless\" src=\"https://plot.ly/~gwenkf/24.embed\" height=\"500px\" width=\"600px\"></iframe>"
      ],
      "text/plain": [
       "<plotly.tools.PlotlyDisplay object>"
      ]
     },
     "execution_count": 466,
     "metadata": {},
     "output_type": "execute_result"
    }
   ],
   "source": [
    "intern_help = internists_ratings.loc[internists_ratings.score_cat == \"Helpfulness\"]\n",
    "\n",
    "import plotly.plotly as py\n",
    "import plotly.graph_objs as go\n",
    "\n",
    "data = [go.Bar(x=intern_help['score'], y=intern_help['count'])]\n",
    "layout=go.Layout(autosize=False, width=600, height=500,\n",
    "                xaxis=dict(title = \"Helpfulness Ratings - NYC Internists\"),\n",
    "                yaxis=dict(title = \"Number of Ratings\"))\n",
    "\n",
    "figure=go.Figure(data=data, layout=layout)\n",
    "py.iplot(figure, filename='internists_helpfulscore')"
   ]
  },
  {
   "cell_type": "code",
   "execution_count": 458,
   "metadata": {},
   "outputs": [
    {
     "data": {
      "text/html": [
       "<iframe id=\"igraph\" scrolling=\"no\" style=\"border:none;\" seamless=\"seamless\" src=\"https://plot.ly/~gwenkf/26.embed\" height=\"500px\" width=\"600px\"></iframe>"
      ],
      "text/plain": [
       "<plotly.tools.PlotlyDisplay object>"
      ]
     },
     "execution_count": 458,
     "metadata": {},
     "output_type": "execute_result"
    }
   ],
   "source": [
    "intern_staff = internists_ratings.loc[internists_ratings.score_cat == \"Staff\"]\n",
    "\n",
    "import plotly.plotly as py\n",
    "import plotly.graph_objs as go\n",
    "\n",
    "data = [go.Bar(x=intern_staff['score'], y=intern_staff['count'])]\n",
    "layout=go.Layout(autosize=False, width=600, height=500,\n",
    "                xaxis=dict(title = \"Staff Ratings - NYC Internists\"),\n",
    "                yaxis=dict(title = \"Number of Ratings\"))\n",
    "\n",
    "figure=go.Figure(data=data, layout=layout)\n",
    "py.iplot(figure, filename='internists_staffscore')"
   ]
  },
  {
   "cell_type": "code",
   "execution_count": 461,
   "metadata": {},
   "outputs": [
    {
     "data": {
      "text/html": [
       "<iframe id=\"igraph\" scrolling=\"no\" style=\"border:none;\" seamless=\"seamless\" src=\"https://plot.ly/~gwenkf/28.embed\" height=\"500px\" width=\"600px\"></iframe>"
      ],
      "text/plain": [
       "<plotly.tools.PlotlyDisplay object>"
      ]
     },
     "execution_count": 461,
     "metadata": {},
     "output_type": "execute_result"
    }
   ],
   "source": [
    "intern_punc = internists_ratings.loc[internists_ratings.score_cat == \"Punctuality\"]\n",
    "import plotly.plotly as py\n",
    "import plotly.graph_objs as go\n",
    "\n",
    "data = [go.Bar(x=intern_punc['score'], y=intern_punc['count'])]\n",
    "layout=go.Layout(autosize=False, width=600, height=500,\n",
    "                xaxis=dict(title = \"Punctuality Ratings - NYC Internists\"),\n",
    "                yaxis=dict(title = \"Number of Ratings\"))\n",
    "\n",
    "figure=go.Figure(data=data, layout=layout)\n",
    "py.iplot(figure, filename='internists_puncscore')"
   ]
  },
  {
   "cell_type": "code",
   "execution_count": 465,
   "metadata": {},
   "outputs": [
    {
     "data": {
      "text/html": [
       "<iframe id=\"igraph\" scrolling=\"no\" style=\"border:none;\" seamless=\"seamless\" src=\"https://plot.ly/~gwenkf/30.embed\" height=\"500px\" width=\"600px\"></iframe>"
      ],
      "text/plain": [
       "<plotly.tools.PlotlyDisplay object>"
      ]
     },
     "execution_count": 465,
     "metadata": {},
     "output_type": "execute_result"
    }
   ],
   "source": [
    "intern_knowl = internists_ratings.loc[internists_ratings.score_cat == \"Knowledge\"]\n",
    "import plotly.plotly as py\n",
    "import plotly.graph_objs as go\n",
    "\n",
    "data = [go.Bar(x=intern_knowl['score'], y=intern_knowl['count'])]\n",
    "layout=go.Layout(autosize=False, width=600, height=500,\n",
    "                xaxis=dict(title = \"Knowledgability Ratings - NYC Internists\"),\n",
    "                yaxis=dict(title = \"Number of Ratings\"))\n",
    "\n",
    "figure=go.Figure(data=data, layout=layout)\n",
    "py.iplot(figure, filename='internists_knowlscore')"
   ]
  },
  {
   "cell_type": "code",
   "execution_count": 73,
   "metadata": {},
   "outputs": [
    {
     "data": {
      "text/html": [
       "<iframe id=\"igraph\" scrolling=\"no\" style=\"border:none;\" seamless=\"seamless\" src=\"https://plot.ly/~gwenkf/32.embed\" height=\"500px\" width=\"600px\"></iframe>"
      ],
      "text/plain": [
       "<plotly.tools.PlotlyDisplay object>"
      ]
     },
     "execution_count": 73,
     "metadata": {},
     "output_type": "execute_result"
    }
   ],
   "source": [
    "help_all = clean_ratings.loc[clean_ratings.score_cat == \"Helpfulness\"]\n",
    "\n",
    "data = [go.Histogram(x=help_all['score'], marker = dict(color='rgba(96, 159, 148, 1)'))]\n",
    "layout = go.Layout(autosize=False, width=600, height=500,\n",
    "                xaxis=dict(title = \"Helpfulness Ratings - NYC Physicians\"),\n",
    "                yaxis=dict(title = \"Frequency\"))\n",
    "\n",
    "figure = go.Figure(data=data, layout=layout)\n",
    "py.iplot(figure, filename='help_allPhyisicans')"
   ]
  },
  {
   "cell_type": "code",
   "execution_count": 76,
   "metadata": {},
   "outputs": [
    {
     "data": {
      "text/html": [
       "<iframe id=\"igraph\" scrolling=\"no\" style=\"border:none;\" seamless=\"seamless\" src=\"https://plot.ly/~gwenkf/34.embed\" height=\"500px\" width=\"600px\"></iframe>"
      ],
      "text/plain": [
       "<plotly.tools.PlotlyDisplay object>"
      ]
     },
     "execution_count": 76,
     "metadata": {},
     "output_type": "execute_result"
    }
   ],
   "source": [
    "staff_all = clean_ratings.loc[clean_ratings.score_cat == \"Staff\"]\n",
    "\n",
    "data = [go.Histogram(x=staff_all['score'], marker=dict(color='rgba(96, 159, 148, 1)'))]\n",
    "layout = go.Layout(autosize=False, width=600, height=500,\n",
    "                xaxis=dict(title = \"Staff Ratings - NYC Physicians\"),\n",
    "                yaxis=dict(title = \"Frequency\"))\n",
    "figure = go.Figure(data=data, layout=layout)\n",
    "py.iplot(figure, filename=\"staff_allPhysicians\")"
   ]
  },
  {
   "cell_type": "code",
   "execution_count": 77,
   "metadata": {},
   "outputs": [
    {
     "data": {
      "text/html": [
       "<iframe id=\"igraph\" scrolling=\"no\" style=\"border:none;\" seamless=\"seamless\" src=\"https://plot.ly/~gwenkf/36.embed\" height=\"500px\" width=\"600px\"></iframe>"
      ],
      "text/plain": [
       "<plotly.tools.PlotlyDisplay object>"
      ]
     },
     "execution_count": 77,
     "metadata": {},
     "output_type": "execute_result"
    }
   ],
   "source": [
    "punc_all = clean_ratings.loc[clean_ratings.score_cat == \"Punctuality\"]\n",
    "\n",
    "data = [go.Histogram(x=punc_all['score'], marker=dict(color='rgba(96, 159, 148, 1)'))]\n",
    "layout = go.Layout(autosize=False, width=600, height=500,\n",
    "                xaxis=dict(title = \"Helpfulness Ratings - NYC Physicians\"),\n",
    "                yaxis=dict(title = \"Frequency\"))\n",
    "figure = go.Figure(data=data, layout=layout)\n",
    "py.iplot(figure, filename=\"punc_allPhysicians\")"
   ]
  },
  {
   "cell_type": "code",
   "execution_count": 487,
   "metadata": {},
   "outputs": [
    {
     "ename": "PlotlyRequestError",
     "evalue": "Hi there, you've reached the threshold of 100 combined image exports and chart saves per day. If you need to raise your daily limit, consider upgrading to a Student or Personal Plan (see: https://plot.ly/products/cloud).",
     "output_type": "error",
     "traceback": [
      "\u001b[1;31m---------------------------------------------------------------------------\u001b[0m",
      "\u001b[1;31mPlotlyRequestError\u001b[0m                        Traceback (most recent call last)",
      "\u001b[1;32m<ipython-input-487-1687852460d4>\u001b[0m in \u001b[0;36m<module>\u001b[1;34m()\u001b[0m\n\u001b[0;32m      6\u001b[0m                 yaxis=dict(title = \"Number of Ratings\"))\n\u001b[0;32m      7\u001b[0m \u001b[0mfigure\u001b[0m \u001b[1;33m=\u001b[0m \u001b[0mgo\u001b[0m\u001b[1;33m.\u001b[0m\u001b[0mFigure\u001b[0m\u001b[1;33m(\u001b[0m\u001b[0mdata\u001b[0m\u001b[1;33m=\u001b[0m\u001b[0mdata\u001b[0m\u001b[1;33m,\u001b[0m \u001b[0mlayout\u001b[0m\u001b[1;33m=\u001b[0m\u001b[0mlayout\u001b[0m\u001b[1;33m)\u001b[0m\u001b[1;33m\u001b[0m\u001b[0m\n\u001b[1;32m----> 8\u001b[1;33m \u001b[0mpy\u001b[0m\u001b[1;33m.\u001b[0m\u001b[0miplot\u001b[0m\u001b[1;33m(\u001b[0m\u001b[0mfigure\u001b[0m\u001b[1;33m,\u001b[0m \u001b[0mfilename\u001b[0m\u001b[1;33m=\u001b[0m\u001b[1;34m\"knowl_allPhysicians\"\u001b[0m\u001b[1;33m)\u001b[0m\u001b[1;33m\u001b[0m\u001b[0m\n\u001b[0m",
      "\u001b[1;32mC:\\Users\\gfern\\Anaconda2\\envs\\py35\\lib\\site-packages\\plotly\\plotly\\plotly.py\u001b[0m in \u001b[0;36miplot\u001b[1;34m(figure_or_data, **plot_options)\u001b[0m\n\u001b[0;32m    133\u001b[0m     \u001b[1;32mif\u001b[0m \u001b[1;34m'auto_open'\u001b[0m \u001b[1;32mnot\u001b[0m \u001b[1;32min\u001b[0m \u001b[0mplot_options\u001b[0m\u001b[1;33m:\u001b[0m\u001b[1;33m\u001b[0m\u001b[0m\n\u001b[0;32m    134\u001b[0m         \u001b[0mplot_options\u001b[0m\u001b[1;33m[\u001b[0m\u001b[1;34m'auto_open'\u001b[0m\u001b[1;33m]\u001b[0m \u001b[1;33m=\u001b[0m \u001b[1;32mFalse\u001b[0m\u001b[1;33m\u001b[0m\u001b[0m\n\u001b[1;32m--> 135\u001b[1;33m     \u001b[0murl\u001b[0m \u001b[1;33m=\u001b[0m \u001b[0mplot\u001b[0m\u001b[1;33m(\u001b[0m\u001b[0mfigure_or_data\u001b[0m\u001b[1;33m,\u001b[0m \u001b[1;33m**\u001b[0m\u001b[0mplot_options\u001b[0m\u001b[1;33m)\u001b[0m\u001b[1;33m\u001b[0m\u001b[0m\n\u001b[0m\u001b[0;32m    136\u001b[0m \u001b[1;33m\u001b[0m\u001b[0m\n\u001b[0;32m    137\u001b[0m     \u001b[1;32mif\u001b[0m \u001b[0misinstance\u001b[0m\u001b[1;33m(\u001b[0m\u001b[0mfigure_or_data\u001b[0m\u001b[1;33m,\u001b[0m \u001b[0mdict\u001b[0m\u001b[1;33m)\u001b[0m\u001b[1;33m:\u001b[0m\u001b[1;33m\u001b[0m\u001b[0m\n",
      "\u001b[1;32mC:\\Users\\gfern\\Anaconda2\\envs\\py35\\lib\\site-packages\\plotly\\plotly\\plotly.py\u001b[0m in \u001b[0;36mplot\u001b[1;34m(figure_or_data, validate, **plot_options)\u001b[0m\n\u001b[0;32m    226\u001b[0m     \u001b[0mdata\u001b[0m \u001b[1;33m=\u001b[0m \u001b[0mfig\u001b[0m\u001b[1;33m.\u001b[0m\u001b[0mget\u001b[0m\u001b[1;33m(\u001b[0m\u001b[1;34m'data'\u001b[0m\u001b[1;33m,\u001b[0m \u001b[1;33m[\u001b[0m\u001b[1;33m]\u001b[0m\u001b[1;33m)\u001b[0m\u001b[1;33m\u001b[0m\u001b[0m\n\u001b[0;32m    227\u001b[0m     \u001b[0mplot_options\u001b[0m\u001b[1;33m[\u001b[0m\u001b[1;34m'layout'\u001b[0m\u001b[1;33m]\u001b[0m \u001b[1;33m=\u001b[0m \u001b[0mfig\u001b[0m\u001b[1;33m.\u001b[0m\u001b[0mget\u001b[0m\u001b[1;33m(\u001b[0m\u001b[1;34m'layout'\u001b[0m\u001b[1;33m,\u001b[0m \u001b[1;33m{\u001b[0m\u001b[1;33m}\u001b[0m\u001b[1;33m)\u001b[0m\u001b[1;33m\u001b[0m\u001b[0m\n\u001b[1;32m--> 228\u001b[1;33m     \u001b[0mresponse\u001b[0m \u001b[1;33m=\u001b[0m \u001b[0mv1\u001b[0m\u001b[1;33m.\u001b[0m\u001b[0mclientresp\u001b[0m\u001b[1;33m(\u001b[0m\u001b[0mdata\u001b[0m\u001b[1;33m,\u001b[0m \u001b[1;33m**\u001b[0m\u001b[0mplot_options\u001b[0m\u001b[1;33m)\u001b[0m\u001b[1;33m\u001b[0m\u001b[0m\n\u001b[0m\u001b[0;32m    229\u001b[0m \u001b[1;33m\u001b[0m\u001b[0m\n\u001b[0;32m    230\u001b[0m     \u001b[1;31m# Check if the url needs a secret key\u001b[0m\u001b[1;33m\u001b[0m\u001b[1;33m\u001b[0m\u001b[0m\n",
      "\u001b[1;32mC:\\Users\\gfern\\Anaconda2\\envs\\py35\\lib\\site-packages\\plotly\\api\\v1\\clientresp.py\u001b[0m in \u001b[0;36mclientresp\u001b[1;34m(data, **kwargs)\u001b[0m\n\u001b[0;32m     33\u001b[0m \u001b[1;33m\u001b[0m\u001b[0m\n\u001b[0;32m     34\u001b[0m     \u001b[0murl\u001b[0m \u001b[1;33m=\u001b[0m \u001b[1;34m'{plotly_domain}/clientresp'\u001b[0m\u001b[1;33m.\u001b[0m\u001b[0mformat\u001b[0m\u001b[1;33m(\u001b[0m\u001b[1;33m**\u001b[0m\u001b[0mcfg\u001b[0m\u001b[1;33m)\u001b[0m\u001b[1;33m\u001b[0m\u001b[0m\n\u001b[1;32m---> 35\u001b[1;33m     \u001b[0mresponse\u001b[0m \u001b[1;33m=\u001b[0m \u001b[0mrequest\u001b[0m\u001b[1;33m(\u001b[0m\u001b[1;34m'post'\u001b[0m\u001b[1;33m,\u001b[0m \u001b[0murl\u001b[0m\u001b[1;33m,\u001b[0m \u001b[0mdata\u001b[0m\u001b[1;33m=\u001b[0m\u001b[0mpayload\u001b[0m\u001b[1;33m)\u001b[0m\u001b[1;33m\u001b[0m\u001b[0m\n\u001b[0m\u001b[0;32m     36\u001b[0m \u001b[1;33m\u001b[0m\u001b[0m\n\u001b[0;32m     37\u001b[0m     \u001b[1;31m# Old functionality, just keeping it around.\u001b[0m\u001b[1;33m\u001b[0m\u001b[1;33m\u001b[0m\u001b[0m\n",
      "\u001b[1;32mC:\\Users\\gfern\\Anaconda2\\envs\\py35\\lib\\site-packages\\plotly\\api\\v1\\utils.py\u001b[0m in \u001b[0;36mrequest\u001b[1;34m(method, url, **kwargs)\u001b[0m\n\u001b[0;32m     84\u001b[0m         \u001b[0mcontent\u001b[0m \u001b[1;33m=\u001b[0m \u001b[0mresponse\u001b[0m\u001b[1;33m.\u001b[0m\u001b[0mcontent\u001b[0m \u001b[1;32mif\u001b[0m \u001b[0mresponse\u001b[0m \u001b[1;32melse\u001b[0m \u001b[1;34m'No content'\u001b[0m\u001b[1;33m\u001b[0m\u001b[0m\n\u001b[0;32m     85\u001b[0m         \u001b[1;32mraise\u001b[0m \u001b[0mexceptions\u001b[0m\u001b[1;33m.\u001b[0m\u001b[0mPlotlyRequestError\u001b[0m\u001b[1;33m(\u001b[0m\u001b[0mmessage\u001b[0m\u001b[1;33m,\u001b[0m \u001b[0mstatus_code\u001b[0m\u001b[1;33m,\u001b[0m \u001b[0mcontent\u001b[0m\u001b[1;33m)\u001b[0m\u001b[1;33m\u001b[0m\u001b[0m\n\u001b[1;32m---> 86\u001b[1;33m     \u001b[0mvalidate_response\u001b[0m\u001b[1;33m(\u001b[0m\u001b[0mresponse\u001b[0m\u001b[1;33m)\u001b[0m\u001b[1;33m\u001b[0m\u001b[0m\n\u001b[0m\u001b[0;32m     87\u001b[0m     \u001b[1;32mreturn\u001b[0m \u001b[0mresponse\u001b[0m\u001b[1;33m\u001b[0m\u001b[0m\n",
      "\u001b[1;32mC:\\Users\\gfern\\Anaconda2\\envs\\py35\\lib\\site-packages\\plotly\\api\\v1\\utils.py\u001b[0m in \u001b[0;36mvalidate_response\u001b[1;34m(response)\u001b[0m\n\u001b[0;32m     36\u001b[0m         \u001b[0mmessage\u001b[0m \u001b[1;33m=\u001b[0m \u001b[0mcontent\u001b[0m \u001b[1;32mif\u001b[0m \u001b[0mcontent\u001b[0m \u001b[1;32melse\u001b[0m \u001b[1;34m'No Content'\u001b[0m\u001b[1;33m\u001b[0m\u001b[0m\n\u001b[0;32m     37\u001b[0m \u001b[1;33m\u001b[0m\u001b[0m\n\u001b[1;32m---> 38\u001b[1;33m     \u001b[1;32mraise\u001b[0m \u001b[0mexceptions\u001b[0m\u001b[1;33m.\u001b[0m\u001b[0mPlotlyRequestError\u001b[0m\u001b[1;33m(\u001b[0m\u001b[0mmessage\u001b[0m\u001b[1;33m,\u001b[0m \u001b[0mstatus_code\u001b[0m\u001b[1;33m,\u001b[0m \u001b[0mcontent\u001b[0m\u001b[1;33m)\u001b[0m\u001b[1;33m\u001b[0m\u001b[0m\n\u001b[0m\u001b[0;32m     39\u001b[0m \u001b[1;33m\u001b[0m\u001b[0m\n\u001b[0;32m     40\u001b[0m \u001b[1;33m\u001b[0m\u001b[0m\n",
      "\u001b[1;31mPlotlyRequestError\u001b[0m: Hi there, you've reached the threshold of 100 combined image exports and chart saves per day. If you need to raise your daily limit, consider upgrading to a Student or Personal Plan (see: https://plot.ly/products/cloud)."
     ]
    }
   ],
   "source": [
    "knowl_all = clean_ratings.loc[clean_ratings.score_cat == \"Knowledge\"]\n",
    "\n",
    "data = [go.Histogram(x=knowl_all['score'], marker = dict(color = '#5C6BC0'))]\n",
    "layout = go.Layout(autosize=False, width=600, height=500,\n",
    "                xaxis=dict(title = \"Helpfulness Ratings - NYC Physicians\"),\n",
    "                yaxis=dict(title = \"Number of Ratings\"))\n",
    "figure = go.Figure(data=data, layout=layout)\n",
    "py.iplot(figure, filename=\"knowl_allPhysicians\")"
   ]
  },
  {
   "cell_type": "code",
   "execution_count": 22,
   "metadata": {},
   "outputs": [],
   "source": [
    "rating_doc = pd.concat([pd.Series(row['doc_name'], row['cat_ratings'].split(','))              \n",
    "                    for _, row in ratings.iterrows()]).reset_index().rename(columns={'index':'score_cat', 0:'doc_name'})\n",
    "rating_doc = rating_doc.loc[rating_doc.score_cat != \" \"]\n",
    "scores = [\"1\",\"2\",\"3\",\"4\",\"5\"]\n",
    "cat = [\"Staff\", \"Punctuality\", \"Helpfulness\", \"Knowledge\"]\n",
    "nums = rating_doc.loc[rating_spec.score_cat.isin(scores)].reset_index()[['score_cat', \n",
    "                                                                          'doc_name']].rename(columns={'score_cat':'score',\n",
    "                                                                                                       'doc_name':'doc_name1'})\n",
    "cats = rating_doc.loc[rating_spec.score_cat.isin(cat)].reset_index()[['score_cat', 'doc_name']]\n",
    "clean_ratingsD = pd.concat([nums, cats], axis=1)\n",
    "clean_ratingsD = clean_ratingsD[['score','score_cat','doc_name']]\n",
    "clean_ratingsD = clean_ratingsD.dropna()\n",
    "\n",
    "doc_numrev = doc_geninfo[['doc_name','num_reviews']]"
   ]
  },
  {
   "cell_type": "code",
   "execution_count": 43,
   "metadata": {},
   "outputs": [
    {
     "data": {
      "text/html": [
       "<iframe id=\"igraph\" scrolling=\"no\" style=\"border:none;\" seamless=\"seamless\" src=\"https://plot.ly/~gwenkf/42.embed\" height=\"525px\" width=\"100%\"></iframe>"
      ],
      "text/plain": [
       "<plotly.tools.PlotlyDisplay object>"
      ]
     },
     "execution_count": 43,
     "metadata": {},
     "output_type": "execute_result"
    }
   ],
   "source": [
    "data = [go.Histogram(x=clean_ratingsD['score'], marker = dict(color='rgba(96, 159, 148, 1)'))]\n",
    "layout = go.Layout(xaxis=dict(title=\"Overall Ratings - NYC Physicians\", yaxis=dict(title=\"Frequency\")))\n",
    "py.iplot(data, filename='overall_histo')"
   ]
  },
  {
   "cell_type": "code",
   "execution_count": 45,
   "metadata": {},
   "outputs": [
    {
     "data": {
      "text/plain": [
       "12.858585858585858"
      ]
     },
     "execution_count": 45,
     "metadata": {},
     "output_type": "execute_result"
    }
   ],
   "source": [
    "doc_numrev['num_reviews'].mean() ##avg number of reviews per doctor only about 13"
   ]
  },
  {
   "cell_type": "code",
   "execution_count": null,
   "metadata": {
    "collapsed": true
   },
   "outputs": [],
   "source": []
  }
 ],
 "metadata": {
  "kernelspec": {
   "display_name": "Python 3",
   "language": "python",
   "name": "python3"
  },
  "language_info": {
   "codemirror_mode": {
    "name": "ipython",
    "version": 3
   },
   "file_extension": ".py",
   "mimetype": "text/x-python",
   "name": "python",
   "nbconvert_exporter": "python",
   "pygments_lexer": "ipython3",
   "version": "3.5.3"
  }
 },
 "nbformat": 4,
 "nbformat_minor": 2
}
