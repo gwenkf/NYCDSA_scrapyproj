{
 "cells": [
  {
   "cell_type": "code",
   "execution_count": 285,
   "metadata": {},
   "outputs": [],
   "source": [
    "import pandas as pd\n",
    "import numpy as np\n",
    "\n",
    "doc_geninfo = pd.read_csv(\"doctors.csv\")\n",
    "ratings = pd.read_csv(\"reviews.csv\")"
   ]
  },
  {
   "cell_type": "code",
   "execution_count": 286,
   "metadata": {
    "collapsed": true
   },
   "outputs": [],
   "source": [
    "doc_geninfo.shape, doc_geninfo.drop_duplicates().shape\n",
    "\n",
    "##Removing unwanted locations from dataset\n",
    "doc_geninfo['borough'].astype('category').cat.categories\n",
    "doc_geninfo = doc_geninfo.loc[doc_geninfo.borough!=\"Baltimore\"]\n",
    "doc_geninfo = doc_geninfo.loc[doc_geninfo.borough!=\"Jacksonville\"]\n",
    "doc_geninfo = doc_geninfo.loc[doc_geninfo.borough!=\"Beverly Hills\"]\n",
    "doc_geninfo = doc_geninfo.loc[doc_geninfo.borough!=\"Wilmington\"]\n",
    "doc_geninfo = doc_geninfo.loc[doc_geninfo.borough!=\"Ypsilanti\"]\n",
    "doc_geninfo = doc_geninfo.loc[doc_geninfo.borough!=\"Bridgeport\"]\n",
    "doc_geninfo = doc_geninfo.loc[doc_geninfo.borough!=\"Boston\"]\n",
    "doc_geninfo = doc_geninfo.loc[doc_geninfo.borough!=\"Yonkers\"]\n",
    "doc_geninfo = doc_geninfo.loc[doc_geninfo.borough!=\"White Plains\"]\n",
    "doc_geninfo = doc_geninfo.loc[doc_geninfo.borough!=\"West Orange\"]\n",
    "doc_geninfo = doc_geninfo.loc[doc_geninfo.borough!=\"West Harrison\"]\n",
    "doc_geninfo = doc_geninfo.loc[doc_geninfo.borough!=\"Valhalla\"]\n",
    "doc_geninfo = doc_geninfo.loc[doc_geninfo.borough!=\"Tarrytown\"]\n",
    "doc_geninfo = doc_geninfo.loc[doc_geninfo.borough!=\"Toronto\"]\n",
    "doc_geninfo = doc_geninfo.loc[doc_geninfo.borough!=\"Tuckahoe\"]\n",
    "doc_geninfo = doc_geninfo.loc[doc_geninfo.borough!=\"Watchung\"]\n",
    "doc_geninfo = doc_geninfo.loc[doc_geninfo.borough!=\"Uniondale\"]\n",
    "doc_geninfo = doc_geninfo.loc[doc_geninfo.borough!=\"Wayne\"]\n",
    "doc_geninfo = doc_geninfo.loc[doc_geninfo.borough!=\"Stony Brook\"]\n",
    "doc_geninfo = doc_geninfo.loc[doc_geninfo.borough!=\"Williston Park\"]\n",
    "doc_geninfo = doc_geninfo.loc[doc_geninfo.borough!=\"Stanford\"]\n",
    "doc_geninfo = doc_geninfo.loc[doc_geninfo.borough!=\"Stamford\"]\n",
    "doc_geninfo = doc_geninfo.loc[doc_geninfo.borough!=\"Summit\"]\n",
    "doc_geninfo = doc_geninfo.loc[doc_geninfo.borough!=\"St. Louis\"]\n",
    "doc_geninfo = doc_geninfo.loc[doc_geninfo.borough!=\"Suffern\"]\n",
    "doc_geninfo = doc_geninfo.loc[doc_geninfo.borough!=\"Valley Stream\"]\n",
    "doc_geninfo = doc_geninfo.loc[doc_geninfo.borough!=\"Sunny Isles Beach\"]\n",
    "doc_geninfo = doc_geninfo.loc[doc_geninfo.borough!=\"Setauket\"]\n",
    "doc_geninfo = doc_geninfo.loc[doc_geninfo.borough!=\"Sayre\"]\n",
    "doc_geninfo = doc_geninfo.loc[doc_geninfo.borough!=\"Schenectady\"]\n",
    "doc_geninfo = doc_geninfo.loc[doc_geninfo.borough!=\"Saylorsburg\"]\n",
    "doc_geninfo = doc_geninfo.loc[doc_geninfo.borough!=\"Sacramento\"]\n",
    "doc_geninfo = doc_geninfo.loc[doc_geninfo.borough!=\"Southampton\"]\n",
    "doc_geninfo = doc_geninfo.loc[doc_geninfo.borough!=\"Roselle\"]\n",
    "doc_geninfo = doc_geninfo.loc[doc_geninfo.borough!=\"Roslyn\"]\n",
    "doc_geninfo = doc_geninfo.loc[doc_geninfo.borough!=\"Rye\"]\n",
    "doc_geninfo = doc_geninfo.loc[doc_geninfo.borough!=\"Bethpage\"]\n",
    "doc_geninfo = doc_geninfo.loc[doc_geninfo.borough!=\"Brampton\"]\n",
    "doc_geninfo = doc_geninfo.loc[doc_geninfo.borough!=\"Brighton\"]\n",
    "doc_geninfo = doc_geninfo.loc[doc_geninfo.borough!=\"Raleigh\"]\n",
    "doc_geninfo = doc_geninfo.loc[doc_geninfo.borough!=\"Carle Place\"]\n",
    "doc_geninfo = doc_geninfo.loc[doc_geninfo.borough!=\"Charlotte\"]\n",
    "doc_geninfo = doc_geninfo.loc[doc_geninfo.borough!=\"Cedarhurst\"]\n",
    "doc_geninfo = doc_geninfo.loc[doc_geninfo.borough!=\"Centreville\"]\n",
    "doc_geninfo = doc_geninfo.loc[doc_geninfo.borough!=\"Cherry Hill\"]\n",
    "doc_geninfo = doc_geninfo.loc[doc_geninfo.borough!=\"Chicago\"]\n",
    "doc_geninfo = doc_geninfo.loc[doc_geninfo.borough!=\"Chatham\"]\n",
    "doc_geninfo = doc_geninfo.loc[doc_geninfo.borough!=\"Providence\"]\n",
    "doc_geninfo = doc_geninfo.loc[doc_geninfo.borough!=\"Carmel\"]\n",
    "doc_geninfo = doc_geninfo.loc[doc_geninfo.borough!=\"Orlando\"]\n",
    "doc_geninfo = doc_geninfo.loc[doc_geninfo.borough!=\"Oakbrook Terrace\"]\n",
    "doc_geninfo = doc_geninfo.loc[doc_geninfo.borough!=\"Paramus\"]\n",
    "doc_geninfo = doc_geninfo.loc[doc_geninfo.borough!=\"Philadelphia\"]\n",
    "doc_geninfo = doc_geninfo.loc[doc_geninfo.borough!=\"Garden City\"]\n",
    "doc_geninfo = doc_geninfo.loc[doc_geninfo.borough!=\"Detroit\"]\n",
    "doc_geninfo = doc_geninfo.loc[doc_geninfo.borough!=\"Jersey City\"]\n",
    "doc_geninfo = doc_geninfo.loc[doc_geninfo.borough!=\"Kansas City\"]\n",
    "doc_geninfo = doc_geninfo.loc[doc_geninfo.borough!=\"Hackensack\"]\n",
    "doc_geninfo = doc_geninfo.loc[doc_geninfo.borough!=\"Newark\"]\n",
    "doc_geninfo = doc_geninfo.loc[doc_geninfo.borough!=\"Poughkeepsie\"]\n",
    "doc_geninfo = doc_geninfo.loc[doc_geninfo.borough!=\"North York\"]\n",
    "doc_geninfo = doc_geninfo.loc[doc_geninfo.borough!=\"Paterson\"]\n",
    "doc_geninfo = doc_geninfo.loc[doc_geninfo.borough!=\"Monroe\"]\n",
    "doc_geninfo = doc_geninfo.loc[doc_geninfo.borough!=\"Middletown\"]\n",
    "doc_geninfo = doc_geninfo.loc[doc_geninfo.borough!=\"Greenwich\"]\n",
    "doc_geninfo = doc_geninfo.loc[doc_geninfo.borough!=\"Christiansburg\"]\n",
    "doc_geninfo = doc_geninfo.loc[doc_geninfo.borough!=\"Norwalk\"]\n",
    "doc_geninfo = doc_geninfo.loc[doc_geninfo.borough!=\"Hartford\"]\n",
    "doc_geninfo = doc_geninfo.loc[doc_geninfo.borough!=\"Hoboken\"]\n",
    "doc_geninfo = doc_geninfo.loc[doc_geninfo.borough!=\"Great Neck\"]\n",
    "doc_geninfo = doc_geninfo.loc[doc_geninfo.borough!=\"Los Angeles\"]\n",
    "doc_geninfo = doc_geninfo.loc[doc_geninfo.borough!=\"Little Silver\"]\n",
    "doc_geninfo = doc_geninfo.loc[doc_geninfo.borough!=\"Monte Rio\"]\n",
    "doc_geninfo = doc_geninfo.loc[doc_geninfo.borough!=\"New Hyde Park\"]\n",
    "doc_geninfo = doc_geninfo.loc[doc_geninfo.borough!=\"Harrison\"]\n",
    "doc_geninfo = doc_geninfo.loc[doc_geninfo.borough!=\"Dover\"]\n",
    "doc_geninfo = doc_geninfo.loc[doc_geninfo.borough!=\"Livonia\"]\n",
    "doc_geninfo = doc_geninfo.loc[doc_geninfo.borough!=\"Hershey\"]\n",
    "doc_geninfo = doc_geninfo.loc[doc_geninfo.borough!=\"Englewood\"]\n",
    "doc_geninfo = doc_geninfo.loc[doc_geninfo.borough!=\"Danbury\"]\n",
    "doc_geninfo = doc_geninfo.loc[doc_geninfo.borough!=\"Mineola\"]\n",
    "doc_geninfo = doc_geninfo.loc[doc_geninfo.borough!=\"Nanuet\"]\n",
    "doc_geninfo = doc_geninfo.loc[doc_geninfo.borough!=\"Houston\"]\n",
    "doc_geninfo = doc_geninfo.loc[doc_geninfo.borough!=\"Miami\"]\n",
    "doc_geninfo = doc_geninfo.loc[doc_geninfo.borough!=\"Fairfield\"]\n",
    "doc_geninfo = doc_geninfo.loc[doc_geninfo.borough!=\"Knoxville\"]\n",
    "doc_geninfo = doc_geninfo.loc[doc_geninfo.borough!=\"Gainesville\"]\n",
    "doc_geninfo = doc_geninfo.loc[doc_geninfo.borough!=\"New Haven\"]\n",
    "doc_geninfo = doc_geninfo.loc[doc_geninfo.borough!=\"Modesto\"]\n",
    "doc_geninfo = doc_geninfo.loc[doc_geninfo.borough!=\"Hicksville\"]\n",
    "doc_geninfo = doc_geninfo.loc[doc_geninfo.borough!=\"Livingston\"]\n",
    "doc_geninfo = doc_geninfo.loc[doc_geninfo.borough!=\"Old Bridge\"]\n",
    "doc_geninfo = doc_geninfo.loc[doc_geninfo.borough!=\"Menomonee Falls\"]\n",
    "doc_geninfo = doc_geninfo.loc[doc_geninfo.borough!=\"Hauppauge\"]\n",
    "doc_geninfo = doc_geninfo.loc[doc_geninfo.borough!=\"Clark\"]\n",
    "doc_geninfo = doc_geninfo.loc[doc_geninfo.borough!=\"Iselin\"]\n",
    "doc_geninfo = doc_geninfo.loc[doc_geninfo.borough!=\"Florham Park\"]\n",
    "doc_geninfo = doc_geninfo.loc[doc_geninfo.borough!=\"Freehold\"]\n",
    "doc_geninfo = doc_geninfo.loc[doc_geninfo.borough!=\"Delray Beach\"]\n",
    "doc_geninfo = doc_geninfo.loc[doc_geninfo.borough!=\"Fishkill\"]\n",
    "doc_geninfo = doc_geninfo.loc[doc_geninfo.borough!=\"Montclair\"]\n",
    "doc_geninfo = doc_geninfo.loc[doc_geninfo.borough!=\"Rockville\"]\n",
    "doc_geninfo = doc_geninfo.loc[doc_geninfo.borough!=\"Irvine\"]\n",
    "doc_geninfo = doc_geninfo.loc[doc_geninfo.borough!=\"Haddon Heights\"]\n",
    "doc_geninfo = doc_geninfo.loc[doc_geninfo.borough!=\"Harris\"]\n",
    "doc_geninfo = doc_geninfo.loc[doc_geninfo.borough!=\"Melville\"]\n",
    "doc_geninfo = doc_geninfo.loc[doc_geninfo.borough!=\"Lynbrook\"]\n",
    "doc_geninfo = doc_geninfo.loc[doc_geninfo.borough!=\"East Meadow\"]\n",
    "doc_geninfo = doc_geninfo.loc[doc_geninfo.borough!=\"Elyria\"]\n",
    "doc_geninfo = doc_geninfo.loc[doc_geninfo.borough!=\"Beacon\"]\n",
    "doc_geninfo = doc_geninfo.loc[doc_geninfo.borough!=\"New City\"]\n",
    "doc_geninfo = doc_geninfo.loc[doc_geninfo.borough!=\"Newburgh\"]\n",
    "doc_geninfo = doc_geninfo.loc[doc_geninfo.borough!=\"New Brunswick\"]\n",
    "doc_geninfo = doc_geninfo.loc[doc_geninfo.borough!=\"Mount Kisco\"]\n",
    "doc_geninfo = doc_geninfo.loc[doc_geninfo.borough!=\"Elmira\"]\n",
    "doc_geninfo = doc_geninfo.loc[doc_geninfo.borough!=\"High Point\"]\n",
    "doc_geninfo = doc_geninfo.loc[doc_geninfo.borough!=\"Bronxville\"]\n",
    "doc_geninfo = doc_geninfo.loc[doc_geninfo.borough!=\"Manhasset\"]\n",
    "doc_geninfo = doc_geninfo.loc[doc_geninfo.borough!=\"Palisades Park\"]\n",
    "doc_geninfo = doc_geninfo.loc[doc_geninfo.borough!=\"Spring Valley\"]\n",
    "doc_geninfo = doc_geninfo.loc[doc_geninfo.borough!=\"Plainview\"]\n",
    "doc_geninfo = doc_geninfo.loc[doc_geninfo.borough!=\"Hudson\"]\n",
    "doc_geninfo = doc_geninfo.loc[doc_geninfo.borough!=\"Woodmere\"]\n",
    "doc_geninfo = doc_geninfo.loc[doc_geninfo.borough!=\"Woodbury\"]\n",
    "doc_geninfo = doc_geninfo.loc[doc_geninfo.borough!=\"New Rochelle\"]\n",
    "doc_geninfo = doc_geninfo.loc[doc_geninfo.borough!=\"Huntington\"]"
   ]
  },
  {
   "cell_type": "code",
   "execution_count": 287,
   "metadata": {
    "scrolled": true
   },
   "outputs": [
    {
     "data": {
      "text/html": [
       "<div>\n",
       "<style>\n",
       "    .dataframe thead tr:only-child th {\n",
       "        text-align: right;\n",
       "    }\n",
       "\n",
       "    .dataframe thead th {\n",
       "        text-align: left;\n",
       "    }\n",
       "\n",
       "    .dataframe tbody tr th {\n",
       "        vertical-align: top;\n",
       "    }\n",
       "</style>\n",
       "<table border=\"1\" class=\"dataframe\">\n",
       "  <thead>\n",
       "    <tr style=\"text-align: right;\">\n",
       "      <th></th>\n",
       "      <th>languages</th>\n",
       "      <th>insurances</th>\n",
       "      <th>gender</th>\n",
       "      <th>specialty</th>\n",
       "      <th>doc_name</th>\n",
       "      <th>num_reviews</th>\n",
       "      <th>borough</th>\n",
       "    </tr>\n",
       "  </thead>\n",
       "  <tbody>\n",
       "    <tr>\n",
       "      <th>0</th>\n",
       "      <td>NaN</td>\n",
       "      <td>Blue Cross / Blue Shield,GHI,Oxford</td>\n",
       "      <td>Male</td>\n",
       "      <td>Plastic / Cosmetic Surgeon, Physician</td>\n",
       "      <td>Dr. Douglas Steinbrech</td>\n",
       "      <td>155.0</td>\n",
       "      <td>New York City</td>\n",
       "    </tr>\n",
       "    <tr>\n",
       "      <th>1</th>\n",
       "      <td>Spanish</td>\n",
       "      <td>GHI</td>\n",
       "      <td>Male</td>\n",
       "      <td>Gastroenterologist</td>\n",
       "      <td>Dr. Leon Kavaler</td>\n",
       "      <td>80.0</td>\n",
       "      <td>New York City</td>\n",
       "    </tr>\n",
       "    <tr>\n",
       "      <th>2</th>\n",
       "      <td>NaN</td>\n",
       "      <td>Medicare</td>\n",
       "      <td>Male</td>\n",
       "      <td>Oncologist / Hematologist</td>\n",
       "      <td>Dr. Farr Nezhat</td>\n",
       "      <td>16.0</td>\n",
       "      <td>New York City</td>\n",
       "    </tr>\n",
       "    <tr>\n",
       "      <th>3</th>\n",
       "      <td>NaN</td>\n",
       "      <td>Blue Cross / Blue Shield,GHI,Oxford</td>\n",
       "      <td>Male</td>\n",
       "      <td>Neurosurgeon</td>\n",
       "      <td>Dr. Anders Cohen</td>\n",
       "      <td>20.0</td>\n",
       "      <td>New York City</td>\n",
       "    </tr>\n",
       "    <tr>\n",
       "      <th>4</th>\n",
       "      <td>NaN</td>\n",
       "      <td>Aetna</td>\n",
       "      <td>Male</td>\n",
       "      <td>Urologist</td>\n",
       "      <td>Dr. Menachem Mendel Shem Tov</td>\n",
       "      <td>11.0</td>\n",
       "      <td>New York City</td>\n",
       "    </tr>\n",
       "  </tbody>\n",
       "</table>\n",
       "</div>"
      ],
      "text/plain": [
       "  languages                           insurances gender  \\\n",
       "0       NaN  Blue Cross / Blue Shield,GHI,Oxford   Male   \n",
       "1   Spanish                                  GHI   Male   \n",
       "2       NaN                             Medicare   Male   \n",
       "3       NaN  Blue Cross / Blue Shield,GHI,Oxford   Male   \n",
       "4       NaN                                Aetna   Male   \n",
       "\n",
       "                               specialty                      doc_name  \\\n",
       "0  Plastic / Cosmetic Surgeon, Physician        Dr. Douglas Steinbrech   \n",
       "1                     Gastroenterologist              Dr. Leon Kavaler   \n",
       "2              Oncologist / Hematologist               Dr. Farr Nezhat   \n",
       "3                           Neurosurgeon              Dr. Anders Cohen   \n",
       "4                              Urologist  Dr. Menachem Mendel Shem Tov   \n",
       "\n",
       "   num_reviews        borough  \n",
       "0        155.0  New York City  \n",
       "1         80.0  New York City  \n",
       "2         16.0  New York City  \n",
       "3         20.0  New York City  \n",
       "4         11.0  New York City  "
      ]
     },
     "execution_count": 287,
     "metadata": {},
     "output_type": "execute_result"
    }
   ],
   "source": [
    "index = np.arange(413)\n",
    "index = pd.Series(index)\n",
    "lang = pd.Series(doc_geninfo['languages'])\n",
    "\n",
    "lang = pd.DataFrame(lang.str.split(',', expand=True).stack())\n",
    "lang = lang.set_index(index).rename(columns = {0:'languages'})\n",
    "lang.dropna(axis=0, how=\"any\")\n",
    "#lang['languages'].astype('category').cat.categories to see extra information to be excluded\n",
    "\n",
    "##Cats to be removed from langs -- Physician, Acupuncturist, Anesthesiologist, Bariatric / Weight Loss Specialist, Cardiologist, Cardiothoracic Surgeon\n",
    "##Dermatologist, Ear Nose and Throat (ENT) Doctor, Gastroenterologist, Geneticist, Gynecologist (OBGYN), Internist / Geriatrician,\n",
    "##Naturopath, Neurologist, Ophthalmologist, Orthodontist, Orthopedic Surgeon, Pain Management Specialist / Physical Therapist,\n",
    "##Pediatrician, Periodontist (gums), Plastic / Cosmetic Surgeon, Podiatrist, Psychiatrist, Psychologist, Reproductive Endocrinologist,\n",
    "##Sports Medicine Physician, Urogynecologist, Urologist, Vascular Surgeon / Phlebologist\n",
    "\n",
    "lang = lang.loc[lang.languages!=\" Physician\"]\n",
    "lang = lang.loc[lang.languages!=\"Acupuncturist\"]\n",
    "lang = lang.loc[lang.languages!=\"Anesthesiologist\"]\n",
    "lang = lang.loc[lang.languages!=\"Bariatric / Weight Loss Specialist\"]\n",
    "lang = lang.loc[lang.languages!=\"Cardiologist\"]\n",
    "lang = lang.loc[lang.languages!=\"Cardiothoracic Surgeon\"]\n",
    "lang = lang.loc[lang.languages!=\"Dermatologist\"]\n",
    "lang = lang.loc[lang.languages!=\"Ear Nose and Throat (ENT) Doctor\"]\n",
    "lang = lang.loc[lang.languages!=\"Gastroenterologist\"]\n",
    "lang = lang.loc[lang.languages!=\"Geneticist\"]\n",
    "lang = lang.loc[lang.languages!=\"Gynecologist (OBGYN)\"]\n",
    "lang = lang.loc[lang.languages!=\"Internist / Geriatrician\"]\n",
    "lang = lang.loc[lang.languages!=\"Naturopath\"]\n",
    "lang = lang.loc[lang.languages!=\"Neurologist\"]\n",
    "lang = lang.loc[lang.languages!=\"Ophthalmologist\"]\n",
    "lang = lang.loc[lang.languages!=\"Orthodontist\"]\n",
    "lang = lang.loc[lang.languages!=\"Orthopedic Surgeon\"]\n",
    "lang = lang.loc[lang.languages!=\"Pain Management Specialist / Physical Therapist\"]\n",
    "lang = lang.loc[lang.languages!=\"Pediatrician\"]\n",
    "lang = lang.loc[lang.languages!=\"Periodontist (gums)\"]\n",
    "lang = lang.loc[lang.languages!=\"Plastic / Cosmetic Surgeon\"]\n",
    "lang = lang.loc[lang.languages!=\"Podiatrist\"]\n",
    "lang = lang.loc[lang.languages!=\"Psychiatrist\"]\n",
    "lang = lang.loc[lang.languages!=\"Psychologist\"]\n",
    "lang = lang.loc[lang.languages!=\"Reproductive Endocrinologist\"]\n",
    "lang = lang.loc[lang.languages!=\"Sports Medicine Physician\"]\n",
    "lang = lang.loc[lang.languages!=\"Urogynecologist\"]\n",
    "lang = lang.loc[lang.languages!=\"Urologist\"]\n",
    "lang = lang.loc[lang.languages!=\"Vascular Surgeon / Phlebologist\"]\n",
    "\n",
    "doc_geninfo.head()"
   ]
  },
  {
   "cell_type": "code",
   "execution_count": 209,
   "metadata": {},
   "outputs": [
    {
     "data": {
      "text/plain": [
       "borough\n",
       "Bronx              16\n",
       "Brooklyn           46\n",
       "New York City    1273\n",
       "Queens             33\n",
       "Staten Island      21\n",
       "dtype: int64"
      ]
     },
     "execution_count": 209,
     "metadata": {},
     "output_type": "execute_result"
    }
   ],
   "source": [
    "doc_geninfo = doc_geninfo.replace(to_replace=[\"Astoria\", \"Bayside\", \"Elmhurst\", \"Far Rockaway\", \"Flushing\", \"Forest Hills\", \"Fresh Meadows\",\n",
    "                               \"Glen Oaks\", \"Jackson Heights\", \"Jamaica\", \"Kew Gardens\", \"Long Island City\", \"Rego Park\", \"Ridgewood\",\n",
    "                               \"Sunnyside\"], value=\"Queens\")\n",
    "doc_geninfo = doc_geninfo.replace(to_replace=[\"Prospect\", \"Rockaway Park\"], value=\"Brooklyn\")\n",
    "doc_geninfo = doc_geninfo.replace(to_replace=\"New York\", value=\"New York City\")\n",
    "doc_geninfo.groupby('borough').size()"
   ]
  },
  {
   "cell_type": "code",
   "execution_count": 211,
   "metadata": {},
   "outputs": [
    {
     "data": {
      "text/plain": [
       "gender\n",
       " Female     325\n",
       " Male      1064\n",
       "dtype: int64"
      ]
     },
     "execution_count": 211,
     "metadata": {},
     "output_type": "execute_result"
    }
   ],
   "source": [
    "doc_geninfo.groupby('gender').size()"
   ]
  },
  {
   "cell_type": "code",
   "execution_count": 242,
   "metadata": {
    "scrolled": true
   },
   "outputs": [],
   "source": [
    "ratings = ratings.dropna(subset=['cat_ratings'])\n",
    "ratings = ratings.drop_duplicates()\n",
    "doc_ratings = pd.concat([pd.Series(row['doc_name'], row['cat_ratings'].split(','))              \n",
    "                    for _, row in ratings.iterrows()]).reset_index()\n",
    "doc_ratings = doc_ratings.rename(columns = {0:'doctors', \"index\":\"ratings\"})\n",
    "\n",
    "spec_ratings = pd.concat([pd.Series(row['specialty'], row['cat_ratings'].split(','))\n",
    "                         for _, row in ratings.iterrows()]).reset_index()\n",
    "spec_ratings = spec_ratings.rename(columns = {0:\"specialty\", \"index\":\"ratings\"})\n",
    "spec_ratings = pd.DataFrame(spec_ratings.groupby(['specialty','ratings']).size()).reset_index()\n",
    "spec_ratings = spec_ratings.rename(columns={0:\"count\", 'specialty':'specialty', 'ratings':'ratings'})"
   ]
  },
  {
   "cell_type": "code",
   "execution_count": 155,
   "metadata": {},
   "outputs": [
    {
     "data": {
      "text/html": [
       "<div>\n",
       "<style>\n",
       "    .dataframe thead tr:only-child th {\n",
       "        text-align: right;\n",
       "    }\n",
       "\n",
       "    .dataframe thead th {\n",
       "        text-align: left;\n",
       "    }\n",
       "\n",
       "    .dataframe tbody tr th {\n",
       "        vertical-align: top;\n",
       "    }\n",
       "</style>\n",
       "<table border=\"1\" class=\"dataframe\">\n",
       "  <thead>\n",
       "    <tr style=\"text-align: right;\">\n",
       "      <th></th>\n",
       "      <th>specialty</th>\n",
       "    </tr>\n",
       "    <tr>\n",
       "      <th>gender</th>\n",
       "      <th></th>\n",
       "    </tr>\n",
       "  </thead>\n",
       "  <tbody>\n",
       "    <tr>\n",
       "      <th>Female</th>\n",
       "      <td>380</td>\n",
       "    </tr>\n",
       "    <tr>\n",
       "      <th>Male</th>\n",
       "      <td>1205</td>\n",
       "    </tr>\n",
       "  </tbody>\n",
       "</table>\n",
       "</div>"
      ],
      "text/plain": [
       "         specialty\n",
       "gender            \n",
       " Female        380\n",
       " Male         1205"
      ]
     },
     "execution_count": 155,
     "metadata": {},
     "output_type": "execute_result"
    }
   ],
   "source": [
    "gen_specialty = doc_geninfo[['gender', 'specialty']]\n",
    "gen_specialty.dropna()\n",
    "gen_specialty.groupby('gender').count()"
   ]
  },
  {
   "cell_type": "code",
   "execution_count": 84,
   "metadata": {},
   "outputs": [
    {
     "name": "stdout",
     "output_type": "stream",
     "text": [
      "High five! You successfully sent some data to your account on plotly. View your plot in your browser at https://plot.ly/~gwenkf/0 or inside your plot.ly account where it is named 'basic-bar'\n"
     ]
    },
    {
     "data": {
      "text/html": [
       "<iframe id=\"igraph\" scrolling=\"no\" style=\"border:none;\" seamless=\"seamless\" src=\"https://plot.ly/~gwenkf/0.embed\" height=\"525px\" width=\"100%\"></iframe>"
      ],
      "text/plain": [
       "<plotly.tools.PlotlyDisplay object>"
      ]
     },
     "execution_count": 84,
     "metadata": {},
     "output_type": "execute_result"
    }
   ],
   "source": [
    "import plotly\n",
    "import plotly.plotly as py\n",
    "import plotly.graph_objs as go\n",
    "\n",
    "data = [go.Bar(\n",
    "            x=['Female Doctors', 'Male Doctors'],\n",
    "            y=['380', '1205'], marker=dict(\n",
    "        color='rgb(244, 104, 66)'), width = .5\n",
    "    )]\n",
    "\n",
    "py.iplot(data, filename='basic-bar')"
   ]
  },
  {
   "cell_type": "code",
   "execution_count": 192,
   "metadata": {},
   "outputs": [],
   "source": [
    "spec_bygen = pd.DataFrame(gen_specialty.groupby([\"specialty\", \"gender\"]).size())\n",
    "spec_bygen = spec_bygen.unstack('gender')"
   ]
  },
  {
   "cell_type": "code",
   "execution_count": 170,
   "metadata": {},
   "outputs": [
    {
     "data": {
      "text/html": [
       "<iframe id=\"igraph\" scrolling=\"no\" style=\"border:none;\" seamless=\"seamless\" src=\"https://plot.ly/~gwenkf/5.embed\" height=\"525px\" width=\"100%\"></iframe>"
      ],
      "text/plain": [
       "<plotly.tools.PlotlyDisplay object>"
      ]
     },
     "execution_count": 170,
     "metadata": {},
     "output_type": "execute_result"
    }
   ],
   "source": [
    "import plotly.plotly as py\n",
    "import cufflinks as cf\n",
    "import pandas as pd\n",
    "import numpy as np\n",
    "\n",
    "cf.set_config_file(offline=False, world_readable=True, theme='ggplot')\n",
    "spec_bygen.iplot(kind='bar', barmode='stack', filename='stacked-bar-charttest')"
   ]
  },
  {
   "cell_type": "code",
   "execution_count": 320,
   "metadata": {},
   "outputs": [
    {
     "data": {
      "text/html": [
       "<iframe id=\"igraph\" scrolling=\"no\" style=\"border:none;\" seamless=\"seamless\" src=\"https://plot.ly/~gwenkf/7.embed\" height=\"380px\" width=\"100%\"></iframe>"
      ],
      "text/plain": [
       "<plotly.tools.PlotlyDisplay object>"
      ]
     },
     "execution_count": 320,
     "metadata": {},
     "output_type": "execute_result"
    }
   ],
   "source": [
    "insur_gen = pd.DataFrame(doc_geninfo['insurances'].str.split(',', expand=True).stack()).reset_index()\n",
    "insur_gen = insur_gen[[0]]\n",
    "insur_gen = insur_gen.rename(columns={0:\"insurances\"})\n",
    "top_ten = pd.DataFrame(insur_gen.groupby('insurances').size().sort_values(ascending=False)).reset_index().rename(columns={0:\"Number of Doctors Accepting\", \"insurances\":\"Insurances\"})\n",
    "top_ten = top_ten[0:10]\n",
    "import plotly.figure_factory as ff\n",
    "import plotly.plotly as py\n",
    "\n",
    "colorscale = [[0, '#4d004c'],[.5, '#f2e5ff'],[1, '#ffffff']]\n",
    "\n",
    "table = ff.create_table(top_ten, colorscale=colorscale)\n",
    "py.iplot(table, filename='color_table')"
   ]
  },
  {
   "cell_type": "code",
   "execution_count": 326,
   "metadata": {},
   "outputs": [
    {
     "data": {
      "text/html": [
       "<iframe id=\"igraph\" scrolling=\"no\" style=\"border:none;\" seamless=\"seamless\" src=\"https://plot.ly/~gwenkf/7.embed\" height=\"380px\" width=\"100%\"></iframe>"
      ],
      "text/plain": [
       "<plotly.tools.PlotlyDisplay object>"
      ]
     },
     "execution_count": 326,
     "metadata": {},
     "output_type": "execute_result"
    }
   ],
   "source": [
    "bottom_ten = pd.DataFrame(insur_gen.groupby('insurances').size().sort_values(ascending=True)).reset_index().rename(columns=\n",
    "                                                                                                                  {'insurances':\n",
    "                                                                                                                  'insurances', 0:\n",
    "                                                                                                                  \"Number of Doctors Accepting\"})\n",
    "bottom_ten = bottom_ten[0:10]\n",
    "import plotly.figure_factory as ff\n",
    "import plotly.plotly as py\n",
    "\n",
    "colorscale = [[0, '#4d004c'],[.5, '#f2e5ff'],[1, '#ffffff']]\n",
    "\n",
    "table = ff.create_table(bottom_ten, colorscale=colorscale)\n",
    "py.iplot(table, filename='color_table')"
   ]
  },
  {
   "cell_type": "code",
   "execution_count": null,
   "metadata": {},
   "outputs": [],
   "source": []
  },
  {
   "cell_type": "code",
   "execution_count": null,
   "metadata": {},
   "outputs": [],
   "source": []
  }
 ],
 "metadata": {
  "kernelspec": {
   "display_name": "Python 3",
   "language": "python",
   "name": "python3"
  },
  "language_info": {
   "codemirror_mode": {
    "name": "ipython",
    "version": 3
   },
   "file_extension": ".py",
   "mimetype": "text/x-python",
   "name": "python",
   "nbconvert_exporter": "python",
   "pygments_lexer": "ipython3",
   "version": "3.5.3"
  }
 },
 "nbformat": 4,
 "nbformat_minor": 2
}
